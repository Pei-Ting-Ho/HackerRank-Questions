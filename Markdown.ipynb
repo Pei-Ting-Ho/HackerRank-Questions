{
 "cells": [
  {
   "cell_type": "code",
   "execution_count": null,
   "metadata": {},
   "outputs": [],
   "source": [
    "# Introduction\n",
    "## Similar to Hypertext Markup Language (HTML), and it consists of the opening tag <tagname> and closing tag </tagname>\n",
    "## Often converted into the corresponding HTML which with the Markdown processor allows it to be easily shared between different devices and people"
   ]
  },
  {
   "cell_type": "code",
   "execution_count": null,
   "metadata": {},
   "outputs": [],
   "source": [
    "# Headings\n",
    "\n",
    "# Using markup \n",
    "# (Header 1, title)\n",
    "## (Header 2, major headings)\n",
    "### (Header 3, subheadings)\n",
    "#### (Header 4)\n",
    "##### (Header 5)\n",
    "###### (Header 6)\n",
    "\n",
    "# Using markup tags\n",
    "## <h1>Header 1, title<h1>\n",
    "## <h2>Header 2, major headings<h2>\n",
    "## <h3>Header 3, subheadings<h3>\n",
    "## <h4>Header 4<h4>\n",
    "## <h5>Header 5<h5>\n",
    "## <h6>Header 6<h6>"
   ]
  },
  {
   "cell_type": "markdown",
   "metadata": {},
   "source": [
    "# (Header 1, title)\n",
    "## (Header 2, major headings)\n",
    "### (Header 3, subheadings)\n",
    "#### (Header 4)\n",
    "##### (Header 5)\n",
    "###### (Header 6)"
   ]
  },
  {
   "cell_type": "code",
   "execution_count": null,
   "metadata": {},
   "outputs": [],
   "source": [
    "# Blockquotes\n",
    "\n",
    "# Using markup\n",
    "## >\n",
    "\n",
    "# Using markup tags\n",
    "## <blockquote>text</blockquote>"
   ]
  },
  {
   "cell_type": "markdown",
   "metadata": {},
   "source": [
    ">Blockquotes"
   ]
  },
  {
   "cell_type": "code",
   "execution_count": null,
   "metadata": {},
   "outputs": [],
   "source": [
    "# Code section\n",
    "\n",
    "# Using markup\n",
    "## Inline code: `...`\n",
    "## Block code: ```...```\n",
    "\n",
    "# Using markup tags\n",
    "## <code>code<code>"
   ]
  },
  {
   "cell_type": "markdown",
   "metadata": {},
   "source": [
    "`Inline Code`\n",
    "\n",
    "```\n",
    "Code 1\n",
    "Code 2\n",
    "Code 3\n",
    "```"
   ]
  },
  {
   "cell_type": "code",
   "execution_count": null,
   "metadata": {},
   "outputs": [],
   "source": [
    "# Mathematical symbol: $...$"
   ]
  },
  {
   "cell_type": "markdown",
   "metadata": {},
   "source": [
    "$\\sqrt{k}$"
   ]
  },
  {
   "cell_type": "code",
   "execution_count": null,
   "metadata": {},
   "outputs": [],
   "source": [
    "# Line break\n",
    "## The line break starts with <br> tag with no closing tag.\n",
    "## The remaining contents begin with a new line."
   ]
  },
  {
   "cell_type": "markdown",
   "metadata": {},
   "source": [
    "The line breaks after using <br> br tags."
   ]
  },
  {
   "cell_type": "code",
   "execution_count": null,
   "metadata": {},
   "outputs": [],
   "source": [
    "# Bold text\n",
    "## <b>...</b>\n",
    "## *...*\n",
    "## __...__\n",
    "\n",
    "# Italic text\n",
    "## <i></i>\n",
    "## *...*\n",
    "## _..._ "
   ]
  },
  {
   "cell_type": "markdown",
   "metadata": {},
   "source": [
    "__Bold Text__\n",
    "\n",
    "_Italic Text_"
   ]
  },
  {
   "cell_type": "code",
   "execution_count": null,
   "metadata": {},
   "outputs": [],
   "source": [
    "# Horizontal line\n",
    "## ---\n",
    "## <hr>"
   ]
  },
  {
   "cell_type": "markdown",
   "metadata": {},
   "source": [
    "---"
   ]
  },
  {
   "cell_type": "code",
   "execution_count": null,
   "metadata": {},
   "outputs": [],
   "source": [
    "# Ordered list\n",
    "\n",
    "# Using markup tags\n",
    "## <ol>\n",
    "## <li>...</li>\n",
    "## </ol>\n",
    "\n",
    "# Using markup\n",
    "## 1.\n",
    "## 2.\n",
    "## 3."
   ]
  },
  {
   "cell_type": "markdown",
   "metadata": {},
   "source": [
    "1. Fish\n",
    "2. Eggs\n",
    "3. Cheese"
   ]
  },
  {
   "cell_type": "markdown",
   "metadata": {},
   "source": [
    "<ol>\n",
    "    <li>Fish</li>\n",
    "    <li>Eggs</li>\n",
    "    <li>Cheese</li>"
   ]
  },
  {
   "cell_type": "code",
   "execution_count": null,
   "metadata": {},
   "outputs": [],
   "source": [
    "# Unordered list\n",
    "\n",
    "# Using markup tags\n",
    "## <ul>\n",
    "## <li>...</li>\n",
    "## </ul>\n",
    "\n",
    "# Using markup\n",
    "## -\n",
    "## -\n",
    "## -"
   ]
  },
  {
   "cell_type": "markdown",
   "metadata": {},
   "source": [
    "- Fish\n",
    "- Eggs \n",
    "- Cheese"
   ]
  },
  {
   "cell_type": "code",
   "execution_count": null,
   "metadata": {},
   "outputs": [],
   "source": [
    "# Standard link\n",
    "## [Link](URL)\n",
    "\n",
    "# Anchor link: Link on a page that brings you to a specific place on the same page\n",
    "## 1: Create a new cell above the section you want to link to: <a id=\"id\"></a>\n",
    "## 2: Create an anchor link that links to the above section: [Section](#id)"
   ]
  },
  {
   "cell_type": "markdown",
   "metadata": {},
   "source": [
    "[Google](https://www.google.com)"
   ]
  },
  {
   "cell_type": "markdown",
   "metadata": {},
   "source": [
    "<a id=\"section_id\"></a>\n",
    "[Section](#section_id)"
   ]
  },
  {
   "cell_type": "code",
   "execution_count": null,
   "metadata": {},
   "outputs": [],
   "source": [
    "# Table\n",
    "## |: Using vertical pipes to separate each column \n",
    "## -: Using hyphen symbol to create the header"
   ]
  },
  {
   "cell_type": "markdown",
   "metadata": {},
   "source": [
    "|Col1  |Col2  |Col3  |\n",
    "|------|------|------|\n",
    "|A     |B     |C     |\n",
    "|X     |Y     |Z     |"
   ]
  }
 ],
 "metadata": {
  "kernelspec": {
   "display_name": "Python 3",
   "language": "python",
   "name": "python3"
  },
  "language_info": {
   "codemirror_mode": {
    "name": "ipython",
    "version": 3
   },
   "file_extension": ".py",
   "mimetype": "text/x-python",
   "name": "python",
   "nbconvert_exporter": "python",
   "pygments_lexer": "ipython3",
   "version": "3.8.1"
  }
 },
 "nbformat": 4,
 "nbformat_minor": 2
}
