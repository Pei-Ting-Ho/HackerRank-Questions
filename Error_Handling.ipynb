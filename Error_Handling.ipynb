{
 "cells": [
  {
   "cell_type": "code",
   "execution_count": null,
   "metadata": {},
   "outputs": [],
   "source": [
    "# Syntax Errors (= Parsing Errors)\n",
    "# >>> while True print('Hello world')\n",
    "#   File \"<stdin>\", line 1\n",
    "#     while True print('Hello world')\n",
    "#                    ^\n",
    "# SyntaxError: invalid syntax"
   ]
  },
  {
   "cell_type": "code",
   "execution_count": null,
   "metadata": {},
   "outputs": [],
   "source": [
    "# Exceptions: Errors detected during execution\n",
    "# >>> 10 * (1/0)\n",
    "# Traceback (most recent call last):\n",
    "#   File \"<stdin>\", line 1, in <module>\n",
    "# ZeroDivisionError: division by zero\n",
    "# >>> 4 + spam*3\n",
    "# Traceback (most recent call last):\n",
    "#   File \"<stdin>\", line 1, in <module>\n",
    "# NameError: name 'spam' is not defined\n",
    "# >>> '2' + 2\n",
    "# Traceback (most recent call last):\n",
    "#   File \"<stdin>\", line 1, in <module>\n",
    "# TypeError: Can't convert 'int' object to str implicitly"
   ]
  },
  {
   "cell_type": "code",
   "execution_count": null,
   "metadata": {},
   "outputs": [],
   "source": [
    "# Handling Exceptions: \n",
    "\n",
    "# Example: try ... except ...\n",
    "# while True:\n",
    "#     try:\n",
    "#         x = int(input(\"Please enter a number: \"))\n",
    "#         break\n",
    "#     except ValueError as err:\n",
    "#         print(\"Oops!  That was no valid number:\", err)\n",
    "\n",
    "# Example: try ... except ... else ...\n",
    "# The try-except statement has an optional else clause, which, when present, must follow all except clauses. \n",
    "# It is useful for code that must be executed if the try clause does not raise an exception. \n",
    "# for arg in sys.argv[1:]:\n",
    "#     try:\n",
    "#         f = open(arg, 'r')\n",
    "#     except OSError:\n",
    "#         print('cannot open', arg)\n",
    "#     else:\n",
    "#         print(arg, 'has', len(f.readlines()), 'lines')\n",
    "#         f.close()"
   ]
  },
  {
   "cell_type": "code",
   "execution_count": 5,
   "metadata": {},
   "outputs": [
    {
     "name": "stdout",
     "output_type": "stream",
     "text": [
      "2\n",
      ".*\\+\n",
      "True\n",
      ".*+\n",
      "False\n"
     ]
    }
   ],
   "source": [
    "# Given a string s, find out whether s is a valid regex or not\n",
    "# Exception re.error(msg, ...): \n",
    "## Exception raised when a string passed is not a valid regular expression \n",
    "## For example, it might contain unmatched parentheses or when some other error occurs during compilation or matching.\n",
    "import re \n",
    "\n",
    "def check_valid_regex(regex):\n",
    "    try:\n",
    "        re.compile(f\"r'{regex}'\")\n",
    "        return True\n",
    "    except re.error:\n",
    "        return False\n",
    "\n",
    "for i in range(int(input())):\n",
    "    print(check_valid_regex(input()))"
   ]
  },
  {
   "cell_type": "code",
   "execution_count": 3,
   "metadata": {},
   "outputs": [
    {
     "name": "stdout",
     "output_type": "stream",
     "text": [
      "3\n",
      "1 0\n",
      "2 $\n",
      "3 1\n",
      "Error Code: integer division or modulo by zero\n",
      "Error Code: invalid literal for int() with base 10: '$'\n",
      "3\n"
     ]
    }
   ],
   "source": [
    "# Given two values a and b, perform integer division and print a/b\n",
    "# In the case of ZeroDivisionError or ValueError, print the error code.\n",
    "n = int(input())\n",
    "cases = [input().split() for i in range(n)]\n",
    "\n",
    "for case in cases:\n",
    "    try:\n",
    "        print(int(case[0]) // int(case[1]))\n",
    "    except ValueError as err:\n",
    "        print('Error Code:', err)\n",
    "    except ZeroDivisionError as err:\n",
    "        print('Error Code:', err)"
   ]
  }
 ],
 "metadata": {
  "kernelspec": {
   "display_name": "Python 3",
   "language": "python",
   "name": "python3"
  },
  "language_info": {
   "codemirror_mode": {
    "name": "ipython",
    "version": 3
   },
   "file_extension": ".py",
   "mimetype": "text/x-python",
   "name": "python",
   "nbconvert_exporter": "python",
   "pygments_lexer": "ipython3",
   "version": "3.8.1"
  }
 },
 "nbformat": 4,
 "nbformat_minor": 4
}
