{
 "cells": [
  {
   "cell_type": "code",
   "execution_count": 5,
   "metadata": {},
   "outputs": [
    {
     "name": "stdout",
     "output_type": "stream",
     "text": [
      "6\n",
      "Weird\n"
     ]
    }
   ],
   "source": [
    "# Given an integer, perform the following conditional actions:\n",
    "## If n is odd, print Weird\n",
    "## If n is even and in the inclusive range of 2 to 5, print Not Weird\n",
    "## If n is even and in the inclusive range of 6 to 20, print Weird\n",
    "## If n is even and greater than 20, print Not Weird\n",
    "n = int(input())\n",
    "if n % 2 == 0:\n",
    "    if n >= 2 and n <= 5:\n",
    "        print('Not Weird')\n",
    "    if n >= 6 and n <= 20:\n",
    "        print('Weird')\n",
    "    if n > 20:\n",
    "        print('Not Weird')\n",
    "else:\n",
    "    print('Weird')"
   ]
  },
  {
   "cell_type": "code",
   "execution_count": 6,
   "metadata": {},
   "outputs": [
    {
     "name": "stdout",
     "output_type": "stream",
     "text": [
      "3\n",
      "3.3333333333333335\n"
     ]
    }
   ],
   "source": [
    "# Integer division\n",
    "print(10 // 3)\n",
    "# Float division\n",
    "print(10 / 3)"
   ]
  },
  {
   "cell_type": "code",
   "execution_count": null,
   "metadata": {},
   "outputs": [],
   "source": [
    "# Read an integer n; For all non-negative integers i < n, print i ** 2\n",
    "## n = 3 => i = 0, 1, 2 => 0, 1, 4\n",
    "n = int(input())\n",
    "for i in range(n):\n",
    "    print(i ** 2)"
   ]
  },
  {
   "cell_type": "code",
   "execution_count": 8,
   "metadata": {},
   "outputs": [
    {
     "name": "stdout",
     "output_type": "stream",
     "text": [
      "3\n",
      "123\n"
     ]
    }
   ],
   "source": [
    "# Read an integer n; Print the list of integers from 1 through n as a string, without spaces\n",
    "n = int(input())\n",
    "\n",
    "print(*tuple(range(1, n + 1)), sep = '')"
   ]
  },
  {
   "cell_type": "code",
   "execution_count": 12,
   "metadata": {},
   "outputs": [
    {
     "name": "stdout",
     "output_type": "stream",
     "text": [
      "2000\n",
      "True\n"
     ]
    }
   ],
   "source": [
    "# Leap year: year >= 1900\n",
    "def is_leap(year):\n",
    "    if year % 4 == 0:\n",
    "        if year % 100 == 0:\n",
    "            if year % 400 == 0:\n",
    "                leap = True\n",
    "            else:\n",
    "                leap = False\n",
    "        else:\n",
    "            leap = True\n",
    "    else:\n",
    "        leap = False\n",
    "\n",
    "    return leap\n",
    "year = int(input())\n",
    "print(is_leap(year))"
   ]
  },
  {
   "cell_type": "code",
   "execution_count": 2,
   "metadata": {},
   "outputs": [
    {
     "name": "stdout",
     "output_type": "stream",
     "text": [
      "1\n",
      "1\n",
      "1\n",
      "2\n"
     ]
    },
    {
     "data": {
      "text/plain": [
       "[[0, 0, 0], [0, 0, 1], [0, 1, 0], [1, 0, 0], [1, 1, 1]]"
      ]
     },
     "execution_count": 2,
     "metadata": {},
     "output_type": "execute_result"
    }
   ],
   "source": [
    "x = int(input())\n",
    "y = int(input())\n",
    "z = int(input())\n",
    "n = int(input())\n",
    "\n",
    "print([ [i, j, k] for i in range(x + 1)\n",
    "                  for j in range(y + 1)\n",
    "                  for k in range(z + 1) if (i + j + k) != n])"
   ]
  },
  {
   "cell_type": "code",
   "execution_count": 9,
   "metadata": {},
   "outputs": [
    {
     "name": "stdout",
     "output_type": "stream",
     "text": [
      "3\n",
      "6 6 5\n",
      "5\n"
     ]
    }
   ],
   "source": [
    "# The first line contains n. \n",
    "# The second line contains an array of integers, each separated by a space.\n",
    "# Find the runner-up score (second maximum)\n",
    "\n",
    "## Use the set to create the unique list\n",
    "n = int(input())\n",
    "list_int = list(set(map(int, input().split())))\n",
    "print(sorted(list_int, reverse = True)[1])"
   ]
  },
  {
   "cell_type": "code",
   "execution_count": 10,
   "metadata": {},
   "outputs": [
    {
     "name": "stdout",
     "output_type": "stream",
     "text": [
      "3\n",
      "6 6 5\n",
      "5\n"
     ]
    }
   ],
   "source": [
    "# The first line contains n. \n",
    "# The second line contains an array of integers, each separated by a space.\n",
    "# Find the runner-up score (second maximum)\n",
    "\n",
    "## Use the list comprehension to create the unique list\n",
    "n = int(input())\n",
    "list_int = map(int, input().split())\n",
    "list_non_duplicates = []\n",
    "for i in list_int:\n",
    "    if i not in list_non_duplicates:\n",
    "        list_non_duplicates.append(i) \n",
    "print(sorted(list_non_duplicates, reverse = True)[1])"
   ]
  },
  {
   "cell_type": "code",
   "execution_count": 28,
   "metadata": {},
   "outputs": [
    {
     "name": "stdout",
     "output_type": "stream",
     "text": [
      "5\n",
      "Harry\n",
      "37.21\n",
      "Berry\n",
      "37.21\n",
      "Tina\n",
      "37.2\n",
      "Akriti\n",
      "41\n",
      "Harsh\n",
      "39\n",
      "Berry\n",
      "Harry\n"
     ]
    }
   ],
   "source": [
    "# Given the names and grades for each student in a class of n students; Store them in a nested list \n",
    "# Print the name(s) of any student(s) having the second lowest grade\n",
    "# If there are multiple students with the second lowest grade, order their names alphabetically and print each name on a new line\n",
    "\n",
    "# The first line contains an integer n, the number of students\n",
    "# The subsequent 2*n lines describe each student over 2 lines.\n",
    "  ## The first line contains a student's name.\n",
    "  ## The second line contains their grade.\n",
    "\n",
    "# Note: Set operations\n",
    "  ## Like a mathematical set, it \"does not enforce or maintain any particular order\" of the elements. \n",
    "  ## The abstract concept of a set does not enforce order, so the implementation is not required to. \n",
    "  ## Python has the liberty to change the order of the elements (List >> Set)\n",
    "  ## So, \"set\" first then \"sort\"\n",
    "\n",
    "# Create the nested list\n",
    "std_name = []\n",
    "std_grade = []\n",
    "for i in range(int(input())):\n",
    "    std_name.append(input())\n",
    "    std_grade.append(float(input())) \n",
    "nested_list = [[i[0], i[1]] for i in zip(std_name, std_grade)]\n",
    "\n",
    "# Find the students with the second-lowest grade\n",
    "second_lowest_grade = sorted(set(std_grade))[1]\n",
    "second_lowest_std = []\n",
    "for std in nested_list:\n",
    "    if std[1] == second_lowest_grade:\n",
    "        second_lowest_std.append(std[0])\n",
    "\n",
    "# Print their names in alphabetical order\n",
    "for std in sorted(second_lowest_std):\n",
    "    print(std)"
   ]
  },
  {
   "cell_type": "code",
   "execution_count": 30,
   "metadata": {},
   "outputs": [
    {
     "name": "stdout",
     "output_type": "stream",
     "text": [
      "5\n",
      "Harry\n",
      "37.21\n",
      "Berry\n",
      "37.21\n",
      "Tina\n",
      "37.2\n",
      "Akriti\n",
      "41\n",
      "Harsh\n",
      "39\n",
      "Berry\n",
      "Harry\n"
     ]
    }
   ],
   "source": [
    "# The concise solution\n",
    "nested_list = [[input(), float(input())] for i in range(int(input()))]\n",
    "sorted_grade = sorted(set([x[1] for x in nested_list]))\n",
    "for std_name in sorted([x[0] for x in nested_list if x[1] == sorted_grade[1]]):\n",
    "    print(std_name)"
   ]
  },
  {
   "cell_type": "code",
   "execution_count": 4,
   "metadata": {},
   "outputs": [
    {
     "name": "stdout",
     "output_type": "stream",
     "text": [
      "2\n",
      "1 2\n",
      "3713081631934410656\n"
     ]
    }
   ],
   "source": [
    "# The first line contains an integer n, denoting the number of elements in the tuple.\n",
    "# The second line contains n space-separated integers, describing the elements in the tuple.\n",
    "n = int(input())\n",
    "t = tuple(map(int, input().split())); print(hash(t))"
   ]
  },
  {
   "cell_type": "code",
   "execution_count": 16,
   "metadata": {},
   "outputs": [
    {
     "name": "stdout",
     "output_type": "stream",
     "text": [
      "3\n",
      "Krishna 67 68 69\n",
      "Arjun 70 98 63\n",
      "Malika 52 56 60\n",
      "Malika\n",
      "56.00\n"
     ]
    }
   ],
   "source": [
    "# Print the average of the marks array for the student name provided, showing 2 places after the decimal\n",
    "## The first line contains the integer n, the number of students' records. \n",
    "## The next n lines contain the names and marks obtained by a student, each value separated by a space. \n",
    "## The final line contains the name of a student to query.\n",
    "n = int(input())\n",
    "std_recs_list = [input().split() for i in range(n)]\n",
    "\n",
    "std_recs_dict = {i[0]:map(float, i[1:]) for i in std_recs_list}\n",
    "avg = sum(std_recs_dict[input()]) / 3\n",
    "print('{0:.2f}'.format(avg))"
   ]
  },
  {
   "cell_type": "code",
   "execution_count": 25,
   "metadata": {},
   "outputs": [
    {
     "name": "stdout",
     "output_type": "stream",
     "text": [
      "3\n",
      "Krishna 67 68 69\n",
      "Arjun 70 98 63\n",
      "Malika 52 56 60\n",
      "Malika\n",
      "56.00\n"
     ]
    }
   ],
   "source": [
    "# Or, ...\n",
    "n = int(input())\n",
    "std_recs_dict = {}\n",
    "\n",
    "for i in range(n):\n",
    "    name, *line = input().split()\n",
    "    std_recs_dict[name] = list(map(float, line))\n",
    "    \n",
    "avg = sum(std_recs_dict[input()]) / 3\n",
    "print('{0:.2f}'.format(avg))"
   ]
  },
  {
   "cell_type": "code",
   "execution_count": 33,
   "metadata": {},
   "outputs": [
    {
     "name": "stdout",
     "output_type": "stream",
     "text": [
      "[1, 2, 3, 9]\n",
      "[1, 2, 3, 9, 10, 11]\n",
      "[1, 2, 3, 7, 9, 10, 11]\n",
      "[1, 2, 3, 7, 9, 11]\n",
      "11\n",
      "2\n"
     ]
    }
   ],
   "source": [
    "# List methods\n",
    "## Append: Adds a single element x to the end of a list\n",
    "a = [1, 2, 3]\n",
    "a.append(9); print(a)   \n",
    "## Extend: Merges another list to the end\n",
    "a.extend([10, 11]); print(a)\n",
    "## Insert: Inserts element x at position i (i, x)\n",
    "a.insert(3, 7); print(a)\n",
    "## Remove: Removes the first occurrence of element x\n",
    "a.remove(10); print(a)\n",
    "## Pop: Removes the last element of a list; If an argument is passed, that index item is popped out\n",
    "temp = a.pop(); print(temp)\n",
    "## Index: Returns the first index of a value in the list; Throws an error if it's not found\n",
    "temp = a.index(3); print(temp)\n",
    "## Count: Counts the number of occurrences of an element x\n",
    "## Sort\n",
    "## Reverse"
   ]
  },
  {
   "cell_type": "code",
   "execution_count": 37,
   "metadata": {},
   "outputs": [
    {
     "name": "stdout",
     "output_type": "stream",
     "text": [
      "12\n",
      "insert 0 5\n",
      "insert 1 10\n",
      "insert 0 6\n",
      "print\n",
      "[6, 5, 10]\n",
      "remove 6\n",
      "append 9\n",
      "append 1\n",
      "sort\n",
      "print\n",
      "[1, 5, 9, 10]\n",
      "pop\n",
      "reverse\n",
      "print\n",
      "[9, 5, 1]\n"
     ]
    }
   ],
   "source": [
    "# Initialize your list and read in the value of n, followed by n lines of commands\n",
    "# Each command will be of the 7 types listed \n",
    "  ## insert i e\n",
    "  ## print\n",
    "  ## remove e\n",
    "  ## append e\n",
    "  ## sort\n",
    "  ## pop\n",
    "  ## reverse\n",
    "# Iterate through each command in order and perform the corresponding operation on your list\n",
    "\n",
    "# Method 1: Use only the conditionals\n",
    "## Call a function via a name stored in a variable: getattr(object, function)(vars)\n",
    "## Handle the special case \"print\" separately\n",
    "n = int(input())\n",
    "ops_list = []\n",
    "\n",
    "for i in range(n):\n",
    "    cmd = input().split()\n",
    "    if cmd[0] == 'print':\n",
    "        print(ops_list)\n",
    "    else:\n",
    "        getattr(ops_list, cmd[0])(*list(map(int, cmd[1:])))"
   ]
  },
  {
   "cell_type": "code",
   "execution_count": null,
   "metadata": {},
   "outputs": [],
   "source": [
    "# Method 2: Use the dictionary + Conditionals\n",
    "## Map the operation to its function (Note: Use the lambda function in the \"print\" case)\n",
    "## Categorize into two cases: No args; At least one arg (Use the * to unpack elements)\n",
    "n = int(input())\n",
    "ops_list = []\n",
    "\n",
    "ops_dict = {'insert': ops_list.insert,\n",
    "            'print': lambda: print(ops_list),\n",
    "            'remove': ops_list.remove,\n",
    "            'append': ops_list.append,\n",
    "            'sort': ops_list.sort,\n",
    "            'pop': ops_list.pop,\n",
    "            'reverse': ops_list.reverse}\n",
    "\n",
    "for i in range(n):\n",
    "    cmd = input().split()\n",
    "    if len(cmd) == 1:\n",
    "        ops_dict[cmd[0]]()\n",
    "    else:\n",
    "        ops_dict[cmd[0]](*list(map(int, cmd[1:])))"
   ]
  }
 ],
 "metadata": {
  "kernelspec": {
   "display_name": "Python 3",
   "language": "python",
   "name": "python3"
  },
  "language_info": {
   "codemirror_mode": {
    "name": "ipython",
    "version": 3
   },
   "file_extension": ".py",
   "mimetype": "text/x-python",
   "name": "python",
   "nbconvert_exporter": "python",
   "pygments_lexer": "ipython3",
   "version": "3.8.1"
  }
 },
 "nbformat": 4,
 "nbformat_minor": 2
}
