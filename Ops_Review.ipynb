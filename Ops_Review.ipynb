{
 "cells": [
  {
   "cell_type": "code",
   "execution_count": 4,
   "metadata": {},
   "outputs": [
    {
     "name": "stdout",
     "output_type": "stream",
     "text": [
      "3.3333333333333335\n",
      "3\n",
      "1\n"
     ]
    }
   ],
   "source": [
    "## Numeric operations\n",
    "# Division with remainder \n",
    "print(10 / 3)\n",
    "# Division without remainder\n",
    "print(10 // 3)\n",
    "# Remainder / Modulo\n",
    "print(10 % 3)"
   ]
  },
  {
   "cell_type": "code",
   "execution_count": 9,
   "metadata": {},
   "outputs": [
    {
     "name": "stdout",
     "output_type": "stream",
     "text": [
      "abcde\n",
      "abab\n",
      "\n",
      "1st line\n",
      "2nd line\n",
      "\n",
      "I'm a coder!\n"
     ]
    }
   ],
   "source": [
    "## String operations\n",
    "# Concatenation\n",
    "print('ab' + 'cde')\n",
    "# Multiplication\n",
    "print('ab' * 2)\n",
    "# Multiline strings\n",
    "print('\\n1st line\\n2nd line\\n')\n",
    "# Escaping\n",
    "print('I\\'m a coder!')"
   ]
  },
  {
   "cell_type": "code",
   "execution_count": 18,
   "metadata": {},
   "outputs": [
    {
     "name": "stdout",
     "output_type": "stream",
     "text": [
      "There are 55 students in the python class.\n",
      "There are 55 students in the python class.\n",
      "The average grade is 8.64.\n",
      "The 55 students' class average grade is 8.64.\n",
      "The 55 students' class average grade is 8.64.\n",
      "The 55 students' class average grade is 8.64.\n"
     ]
    }
   ],
   "source": [
    "## String operations\n",
    "# Concatenation\n",
    "num_stud = 55\n",
    "avg_grade = 8.642843584319\n",
    "print('There are ' + str(num_stud) + ' students in the python class.')\n",
    "# Formatting syntax\n",
    "print(f'There are {num_stud} students in the python class.')\n",
    "print(f'The average grade is {avg_grade:.2f}.')\n",
    "# FaaF\n",
    "print('The {} students\\' class average grade is {:.2f}.'.format(num_stud, avg_grade))\n",
    "print('The {0} students\\' class average grade is {1:.2f}.'.format(num_stud, avg_grade))\n",
    "print('The {num} students\\' class average grade is {avg:.2f}.'.format(num = num_stud, avg = avg_grade))"
   ]
  },
  {
   "cell_type": "code",
   "execution_count": 20,
   "metadata": {},
   "outputs": [
    {
     "name": "stdout",
     "output_type": "stream",
     "text": [
      "3\n"
     ]
    }
   ],
   "source": [
    "# Combined assignment & operations\n",
    "var = 1\n",
    "increment = 2\n",
    "var += increment\n",
    "print(var)"
   ]
  },
  {
   "cell_type": "code",
   "execution_count": 2,
   "metadata": {},
   "outputs": [
    {
     "name": "stdout",
     "output_type": "stream",
     "text": [
      "set a: {1, 2, 3}\n",
      "set b: {3, 4, 5}\n"
     ]
    }
   ],
   "source": [
    "# Set\n",
    "a = {1, 2, 3}\n",
    "b = set((3, 4, 5))\n",
    "print(f'set a: {a}')\n",
    "print(f'set b: {b}')"
   ]
  },
  {
   "cell_type": "code",
   "execution_count": 11,
   "metadata": {},
   "outputs": [
    {
     "name": "stdout",
     "output_type": "stream",
     "text": [
      "Union: {1, 2, 3, 4, 5, 6, 7, 8}\n",
      "Add one elt: {1, 2, 3, 4, 5, 6, 7, 8}\n",
      "Add multiple elts: {1, 2, 3, 4, 5, 6, 7, 8}\n"
     ]
    }
   ],
   "source": [
    "# Unite two sets\n",
    "a |= b; print(f'Union: {a}')\n",
    "# Add one element\n",
    "a.add(6); print(f'Add one elt: {a}')\n",
    "# Add multiple elements\n",
    "a.update({7, 8}); print(f'Add multiple elts: {a}')"
   ]
  },
  {
   "cell_type": "code",
   "execution_count": 21,
   "metadata": {},
   "outputs": [
    {
     "name": "stdout",
     "output_type": "stream",
     "text": [
      "The standard way: {'a': 1, 'b': 2, 'c': 3}\n",
      "The dict constructor: {'a': 1, 'b': 2, 'c': 3}\n"
     ]
    }
   ],
   "source": [
    "# Dictionary\n",
    "a = {'a': 1, 'b': 2, 'c': 3}; print(f'The standard way: {a}')\n",
    "a = dict(a = 1, b = 2, c = 3); print(f'The dict constructor: {a}')"
   ]
  },
  {
   "cell_type": "code",
   "execution_count": 26,
   "metadata": {},
   "outputs": [
    {
     "name": "stdout",
     "output_type": "stream",
     "text": [
      "dict_keys(['a', 'b', 'c'])\n",
      "dict_values([1, 2, 3])\n",
      "dict_items([('a', 1), ('b', 2), ('c', 3)])\n",
      "1\n",
      "1\n"
     ]
    }
   ],
   "source": [
    "# Get all keys: List\n",
    "print(a.keys())\n",
    "# Get all values: List\n",
    "print(a.values())\n",
    "# Get all pairs: List of tuples\n",
    "print(a.items())\n",
    "# Get the specific value\n",
    "print(a['a']); print(a.get('a'))"
   ]
  },
  {
   "cell_type": "code",
   "execution_count": 28,
   "metadata": {},
   "outputs": [
    {
     "name": "stdout",
     "output_type": "stream",
     "text": [
      "[1, 2, 3]\n",
      "None\n"
     ]
    }
   ],
   "source": [
    "# Function output\n",
    "# Return something\n",
    "print(sorted([2, 1, 3]))\n",
    "# Return nothing\n",
    "print([2, 1, 3].sort())"
   ]
  },
  {
   "cell_type": "code",
   "execution_count": 29,
   "metadata": {},
   "outputs": [],
   "source": [
    "# Lambda function\n",
    "students = [('John Smith', 5.6),\n",
    "            ('Angela Merkel', 10),\n",
    "            ('George Bush jr.', 0),\n",
    "            ('Steven Brown', 8),\n",
    "            ('Michael Miller', 7.3)]"
   ]
  },
  {
   "cell_type": "code",
   "execution_count": 30,
   "metadata": {},
   "outputs": [
    {
     "data": {
      "text/plain": [
       "[('George Bush jr.', 0),\n",
       " ('John Smith', 5.6),\n",
       " ('Michael Miller', 7.3),\n",
       " ('Steven Brown', 8),\n",
       " ('Angela Merkel', 10)]"
      ]
     },
     "execution_count": 30,
     "metadata": {},
     "output_type": "execute_result"
    }
   ],
   "source": [
    "# The sorted function\n",
    "sorted(students, key = lambda x:x[1])"
   ]
  },
  {
   "cell_type": "code",
   "execution_count": 31,
   "metadata": {},
   "outputs": [
    {
     "data": {
      "text/plain": [
       "['5.6', '10', '0', '8', '7.3']"
      ]
     },
     "execution_count": 31,
     "metadata": {},
     "output_type": "execute_result"
    }
   ],
   "source": [
    "# The map function\n",
    "list(map(lambda x:str(x[1]) , students))"
   ]
  },
  {
   "cell_type": "code",
   "execution_count": 32,
   "metadata": {},
   "outputs": [
    {
     "data": {
      "text/plain": [
       "[('Angela Merkel', 10), ('Steven Brown', 8), ('Michael Miller', 7.3)]"
      ]
     },
     "execution_count": 32,
     "metadata": {},
     "output_type": "execute_result"
    }
   ],
   "source": [
    "# The filter function\n",
    "list(filter(lambda x:x[1] > 6, students))"
   ]
  },
  {
   "cell_type": "code",
   "execution_count": 38,
   "metadata": {},
   "outputs": [
    {
     "data": {
      "text/plain": [
       "6.180000000000001"
      ]
     },
     "execution_count": 38,
     "metadata": {},
     "output_type": "execute_result"
    }
   ],
   "source": [
    "# The reduce function\n",
    "import functools \n",
    "grades = list(map(lambda x:x[1], students))\n",
    "functools.reduce(lambda x, y: x + y, grades) / 5"
   ]
  },
  {
   "cell_type": "code",
   "execution_count": null,
   "metadata": {},
   "outputs": [],
   "source": []
  }
 ],
 "metadata": {
  "kernelspec": {
   "display_name": "Python 3",
   "language": "python",
   "name": "python3"
  },
  "language_info": {
   "codemirror_mode": {
    "name": "ipython",
    "version": 3
   },
   "file_extension": ".py",
   "mimetype": "text/x-python",
   "name": "python",
   "nbconvert_exporter": "python",
   "pygments_lexer": "ipython3",
   "version": "3.7.3"
  }
 },
 "nbformat": 4,
 "nbformat_minor": 2
}
