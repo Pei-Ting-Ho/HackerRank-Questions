{
 "cells": [
  {
   "cell_type": "code",
   "execution_count": 4,
   "metadata": {},
   "outputs": [
    {
     "name": "stdout",
     "output_type": "stream",
     "text": [
      "[1 2 3 4 5 6]\n",
      "[[1 2]\n",
      " [3 4]\n",
      " [5 6]]\n",
      "[[0 0]\n",
      " [0 0]\n",
      " [0 0]]\n",
      "[[0 0]\n",
      " [0 0]\n",
      " [0 0]]\n",
      "[[1 1]\n",
      " [1 1]\n",
      " [1 1]]\n"
     ]
    }
   ],
   "source": [
    "# Numpy ndarray\n",
    "import numpy as np\n",
    "\n",
    "## Creation\n",
    "### From list\n",
    "lst = [1, 2, 3, 4, 5, 6]\n",
    "npa_1 = np.array(lst)\n",
    "print(npa_1)\n",
    "### From range\n",
    "npa_2 = np.arange(1, 7).reshape(3, 2)\n",
    "print(npa_2)\n",
    "### From shape\n",
    "shape = (3, 2)\n",
    "print(np.zeros(shape, dtype = \"int\"))\n",
    "print(np.empty(shape, dtype = \"int\"))\n",
    "print(np.ones(shape, dtype = \"int\"))\n",
    "### From data"
   ]
  },
  {
   "cell_type": "code",
   "execution_count": 5,
   "metadata": {},
   "outputs": [
    {
     "name": "stdout",
     "output_type": "stream",
     "text": [
      "1\n",
      "1\n",
      "[1 2 3 4]\n",
      "[[1 2]\n",
      " [3 4]]\n",
      "[1 2 5]\n",
      "6\n",
      "3\n",
      "(3, 2)\n",
      "1\n",
      "2\n",
      "3\n",
      "4\n",
      "5\n",
      "6\n",
      "1\n",
      "3\n",
      "5\n",
      "2\n",
      "4\n",
      "6\n"
     ]
    }
   ],
   "source": [
    "## Manipulation\n",
    "### Single element\n",
    "print(npa_1[0]); print(npa_2[0, 0])\n",
    "### Multiple elements\n",
    "print(npa_1[:4]); print(npa_2[:2, :])\n",
    "print(npa_1[ [0, 1, 4] ])\n",
    "### Counts\n",
    "print(npa_2.size)\n",
    "print(len(npa_2))\n",
    "print(npa_2.shape)\n",
    "### Iteration\n",
    "for i in np.nditer(npa_2, order = 'C'):      # Row-major\n",
    "    print(i)\n",
    "for i in np.nditer(npa_2, order = 'F'):      # Column-major\n",
    "    print(i)"
   ]
  },
  {
   "cell_type": "code",
   "execution_count": 6,
   "metadata": {},
   "outputs": [
    {
     "name": "stdout",
     "output_type": "stream",
     "text": [
      "[1.5 3.5 5.5]\n",
      "[1.5 3.5 5.5]\n",
      "[1 3 5]\n",
      "[2 4 6]\n"
     ]
    }
   ],
   "source": [
    "## Stats: np.stats(ndarray, axis = 0 (Column, compute over the rows), 1 (Row, compute over the columns))\n",
    "print(np.mean(npa_2, axis = 1))\n",
    "print(np.median(npa_2, axis = 1))\n",
    "print(np.min(npa_2, axis = 1))\n",
    "print(np.max(npa_2, axis = 1))"
   ]
  },
  {
   "cell_type": "code",
   "execution_count": 7,
   "metadata": {},
   "outputs": [
    {
     "name": "stdout",
     "output_type": "stream",
     "text": [
      "[0 1 2 3 4]\n",
      "[0 1 2]\n",
      "[2 3]\n",
      "True\n"
     ]
    }
   ],
   "source": [
    "## Masking: [Bitmask (Boolean array)] \n",
    "npa_3 = np.arange(5)\n",
    "print(npa_3)\n",
    "### Single mask\n",
    "print(npa_3[npa_3 < 3])\n",
    "### Joint mask\n",
    "print(npa_3[(npa_3 > 1) & (npa_3 < 4)])\n",
    "### Aggregate comparison: np.any(); np.all()\n",
    "print(np.all(npa_3 == np.abs(npa_3)))"
   ]
  },
  {
   "cell_type": "code",
   "execution_count": 8,
   "metadata": {},
   "outputs": [
    {
     "name": "stdout",
     "output_type": "stream",
     "text": [
      "0    1\n",
      "1    2\n",
      "2    3\n",
      "3    4\n",
      "4    5\n",
      "dtype: int64\n",
      "a    1\n",
      "b    2\n",
      "c    3\n",
      "d    4\n",
      "e    5\n",
      "dtype: int64\n",
      "[1 2 3 4 5]\n",
      "Index(['a', 'b', 'c', 'd', 'e'], dtype='object')\n",
      "a    0\n",
      "b    1\n",
      "c    2\n",
      "d    3\n",
      "e    4\n",
      "f    5\n",
      "dtype: int64\n",
      "0\n",
      "0\n",
      "a    0\n",
      "b    1\n",
      "c    2\n",
      "dtype: int64\n",
      "a    0\n",
      "b    1\n",
      "c    2\n",
      "dtype: int64\n",
      "d    3\n",
      "dtype: int64\n",
      "a    NaN\n",
      "b    NaN\n",
      "c    NaN\n",
      "d    3.0\n",
      "e    NaN\n",
      "f    NaN\n",
      "dtype: float64\n",
      "a    0\n",
      "e    4\n",
      "dtype: int64\n"
     ]
    }
   ],
   "source": [
    "# Pandas - Versatile ndarrays\n",
    "import pandas as pd\n",
    "\n",
    "## Series: Array (.values) ~ Values; Index (.index) ~ Keys\n",
    "### Creation: pd.Series(data (List, Array, Dict), index)\n",
    "print(pd.Series([1, 2, 3, 4, 5]))                          \n",
    "s_1 = pd.Series([1, 2, 3, 4, 5], index = ['a', 'b', 'c', 'd', 'e'])\n",
    "s_1 = pd.Series({'a': 1, 'b': 2, 'c': 3, 'd': 4, 'e': 5})\n",
    "print(s_1); print(s_1.values); print(s_1.index)\n",
    "### Read access\n",
    "s_2 = pd.Series(range(6), index = list('abcdef')); print(s_2)\n",
    "#### Single element: s[i]\n",
    "print(s_2[0])         # Implicit index = Series.iloc[i]\n",
    "print(s_2['a'])       # Explicit index = Series.loc['i']\n",
    "#### Multiple elements: s[i:j]; s[ [i, j] ]\n",
    "print(s_2[0:3])       # Implicit index, excluding the last = Series.iloc[i:j]\n",
    "print(s_2['a':'c'])   # Explicit index, including the last = Series.loc['i':'j']\n",
    "#### Masking\n",
    "print(s_2[s_2 == 3]); print(s_2.where(s_2 == 3))     # Masking on values\n",
    "print(s_2[(s_2.index == 'a') | (s_2.index == 'e')])  # Masking on index"
   ]
  },
  {
   "cell_type": "code",
   "execution_count": 18,
   "metadata": {},
   "outputs": [
    {
     "name": "stdout",
     "output_type": "stream",
     "text": [
      "   col0  col1  col2\n",
      "a     0     1     2\n",
      "b     3     4     5\n",
      "c     6     7     8\n",
      "d     9    10    11\n",
      "e    12    13    14\n",
      "[[ 0  1  2]\n",
      " [ 3  4  5]\n",
      " [ 6  7  8]\n",
      " [ 9 10 11]\n",
      " [12 13 14]]\n",
      "Index(['a', 'b', 'c', 'd', 'e'], dtype='object')\n",
      "Index(['col0', 'col1', 'col2'], dtype='object')\n"
     ]
    }
   ],
   "source": [
    "## DataFrame: Array (.values); Index (.index); Column (.columns)\n",
    "### Creation: pd.DataFrame(data, index, columns)\n",
    "df_1 = pd.DataFrame(data = np.arange(15).reshape(5, 3),\n",
    "                    index = list('abcde'),\n",
    "                    columns = ['col0', 'col1', 'col2'])\n",
    "print(df_1)\n",
    "print(df_1.values)\n",
    "print(df_1.index)\n",
    "print(df_1.columns)\n",
    "### Read access\n",
    "#### Explicit columns: [i] + [[i, j]]\n",
    "#### Implicit columns: X\n",
    "#### Explicit rows: Slicing only\n",
    "#### Implicit rows: Slicing only\n",
    "#### DataFrame.loc[]: Row(s); Row + Column\n",
    "#### DataFrame.iloc[]: Row(s); Row + Column"
   ]
  },
  {
   "cell_type": "code",
   "execution_count": 21,
   "metadata": {},
   "outputs": [
    {
     "name": "stdout",
     "output_type": "stream",
     "text": [
      "    col0   col1   col2\n",
      "a   True  False  False\n",
      "b   True  False  False\n",
      "c  False  False  False\n",
      "d  False  False  False\n",
      "e  False  False  False\n",
      "   col0  col1  col2\n",
      "a   NaN     1     2\n",
      "b   NaN     4     5\n",
      "col0    2\n",
      "col1    0\n",
      "col2    0\n",
      "dtype: int64\n",
      "2\n",
      "   col1  col2\n",
      "a     1     2\n",
      "b     4     5\n",
      "c     7     8\n",
      "d    10    11\n",
      "e    13    14\n",
      "      sum  mean         std\n",
      "Year                       \n",
      "2010  110    55    7.071068\n",
      "2011  130    65   49.497475\n",
      "2012  510   255  346.482323\n",
      "   ID  Year  Value  avg_year\n",
      "0   1  2010     50        55\n",
      "1   1  2011    100        65\n",
      "2   2  2010     60        55\n",
      "3   2  2011     30        65\n",
      "4   2  2012     10       255\n",
      "5   3  2012    500       255\n"
     ]
    }
   ],
   "source": [
    "### Missing values\n",
    "df_1.loc['a', 'col0'] = None\n",
    "df_1.loc['b', 'col0'] = np.nan\n",
    "print(df_1.isna())                         # On DataFrame\n",
    "print(df_1[df_1['col0'].isna()])           # On Series\n",
    "print(df_1.isna().sum())                   # Count on the column wise\n",
    "print(df_1['col0'].isna().sum())           # Count on the specific column\n",
    "print(df_1.dropna(axis = 1, how = 'any'))  # Drop columns that have any missing values\n",
    "### Data aggregation: df.groupby(grouping_variable)[column].aggregation_functions()\n",
    "df_2 = pd.DataFrame(data = [[1, 2010, 50], \n",
    "                            [1, 2011, 100],\n",
    "                            [2, 2010, 60], \n",
    "                            [2, 2011, 30], \n",
    "                            [2, 2012, 10],\n",
    "                            [3, 2012, 500]],\n",
    "                    columns = ['ID', 'Year', 'Value'])\n",
    "print(df_2.groupby('Year')['Value'].agg(['sum', 'mean', 'std']))\n",
    "### Data transformation: df.groupby(grouping_variable)[column].transform()\n",
    "#### Add the aggregate values back to the original dataframe \n",
    "#### Like-indexed series\n",
    "df_2['avg_year'] = df_2.groupby('Year')['Value'].transform('mean')\n",
    "print(df_2)\n",
    "\n"
   ]
  },
  {
   "cell_type": "code",
   "execution_count": null,
   "metadata": {},
   "outputs": [],
   "source": []
  },
  {
   "cell_type": "code",
   "execution_count": null,
   "metadata": {},
   "outputs": [],
   "source": []
  },
  {
   "cell_type": "code",
   "execution_count": null,
   "metadata": {},
   "outputs": [],
   "source": []
  }
 ],
 "metadata": {
  "kernelspec": {
   "display_name": "Python 3",
   "language": "python",
   "name": "python3"
  },
  "language_info": {
   "codemirror_mode": {
    "name": "ipython",
    "version": 3
   },
   "file_extension": ".py",
   "mimetype": "text/x-python",
   "name": "python",
   "nbconvert_exporter": "python",
   "pygments_lexer": "ipython3",
   "version": "3.7.3"
  }
 },
 "nbformat": 4,
 "nbformat_minor": 2
}
