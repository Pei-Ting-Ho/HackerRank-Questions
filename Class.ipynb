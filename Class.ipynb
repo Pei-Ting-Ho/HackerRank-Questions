{
 "cells": [
  {
   "cell_type": "code",
   "execution_count": 3,
   "metadata": {},
   "outputs": [
    {
     "name": "stdout",
     "output_type": "stream",
     "text": [
      "0 4 5\n",
      "1 7 6\n",
      "0 5 9\n",
      "1 7 2\n",
      "8.19\n"
     ]
    }
   ],
   "source": [
    "# Given four points A, B, C, D in a 3-dimensional Cartesian coordinate system\n",
    "# Print the angle (PHI) between the plane made by the points ABC and BCD in degrees\n",
    "## COS(PHI) = (X.Y) / |X||Y|\n",
    "## X = AB x BC (Cross product); Y = BC x CD (Cross product); AB = B - A \n",
    "import math\n",
    "\n",
    "class Points:\n",
    "    def __init__(self, x, y, z):\n",
    "        self.x = x\n",
    "        self.y = y\n",
    "        self.z = z\n",
    "        \n",
    "    def __sub__(self, other):\n",
    "        return Points((self.x - other.x), \n",
    "                      (self.y - other.y), \n",
    "                      (self.z - other.z))\n",
    "\n",
    "    def dot(self, other):\n",
    "        return (self.x * other.x) + (self.y * other.y) + (self.z * other.z)\n",
    "\n",
    "    def cross(self, other):\n",
    "        return Points((self.y * other.z - self.z * other.y),\n",
    "                      (self.z * other.x - self.x * other.z),\n",
    "                      (self.x * other.y - self.y * other.x))\n",
    "    \n",
    "    def absolute(self):\n",
    "        return pow((self.x ** 2 + self.y ** 2 + self.z ** 2), 0.5)\n",
    "\n",
    "points = []\n",
    "for i in range(4):\n",
    "    a = list(map(float, input().split()))\n",
    "    points.append(a) \n",
    "\n",
    "a, b, c, d = Points(*points[0]), Points(*points[1]), Points(*points[2]), Points(*points[3])\n",
    "x = (b - a).cross(c - b)\n",
    "y = (c - b).cross(d - c)\n",
    "angle = math.acos(x.dot(y) / (x.absolute() * y.absolute()))\n",
    "print(\"{:.2f}\".format(math.degrees(angle)))"
   ]
  },
  {
   "cell_type": "code",
   "execution_count": 4,
   "metadata": {},
   "outputs": [
    {
     "name": "stdout",
     "output_type": "stream",
     "text": [
      "2 1\n",
      "5 6\n",
      "7.00 + 7.00i\n",
      "-3.00 - 5.00i\n",
      "4.00 + 17.00i\n",
      "0.26 - 0.11i\n",
      "2.24 + 0.00i\n",
      "7.81 + 0.00i\n"
     ]
    }
   ],
   "source": [
    "# Given two complex numbers\n",
    "# Print the result of their addition, subtraction, multiplication, division and modulus operations\n",
    "## For complex numbers with non-zero real (A) and complex part (B): \n",
    "## If B > 0: A + Bi\n",
    "## If B < 0: A - Bi\n",
    "## For complex numbers with a zero complex part (B): A + 0.00i\n",
    "## For complex numbers where the real part (A) is zero and the complex part is non-zero (B): 0.00 + Bi\n",
    "import math\n",
    "\n",
    "class Complex:\n",
    "    def __init__(self, real, imaginary):\n",
    "        self.real = real \n",
    "        self.imaginary = imaginary \n",
    "        \n",
    "    def __add__(self, other):\n",
    "        return Complex((self.real + other.real), (self.imaginary + other.imaginary)) \n",
    "          \n",
    "    def __sub__(self, other):\n",
    "        return Complex((self.real - other.real), (self.imaginary - other.imaginary))\n",
    "        \n",
    "    def __mul__(self, other):\n",
    "        r = self.real * other.real - self.imaginary * other.imaginary\n",
    "        i = self.real * other.imaginary + self.imaginary * other.real\n",
    "        return Complex(r, i)\n",
    "\n",
    "    def __truediv__(self, other):\n",
    "        d = other.real ** 2 + other.imaginary ** 2\n",
    "        n = self * Complex(other.real, -1 * other.imaginary)\n",
    "        return Complex(n.real/d, n.imaginary/d)\n",
    "\n",
    "    def mod(self):\n",
    "        d = self.real ** 2 + self.imaginary ** 2\n",
    "        return Complex(math.sqrt(d), 0)\n",
    "\n",
    "    def __str__(self):\n",
    "        if self.imaginary == 0:\n",
    "            result = \"{:.2f} + 0.00i\".format(self.real)\n",
    "        elif self.real == 0:\n",
    "            if self.imaginary >= 0:\n",
    "                result = \"0.00 + {:.2f}i\".format(self.imaginary)\n",
    "            else:\n",
    "                result = \"0.00 - {:.2f}i\".format(abs(self.imaginary))\n",
    "        elif self.imaginary > 0:\n",
    "            result = \"{:.2f} + {:.2f}i\".format(self.real, self.imaginary)\n",
    "        else:\n",
    "            result = \"{:.2f} - {:.2f}i\".format(self.real, abs(self.imaginary))\n",
    "        return result\n",
    "\n",
    "c = map(float, input().split())\n",
    "d = map(float, input().split())\n",
    "x = Complex(*c)  # Instance: real (A) + imaginary (B) \n",
    "y = Complex(*d)  # Instance: real (A) + imaginary (B)\n",
    "print(*map(str, [x + y,       # __add__     => Instance: real (A) + imaginary (B)\n",
    "                 x - y,       # __sub__     => Instance: real (A) + imaginary (B)\n",
    "                 x * y,       # __mul__     => Instance: real (A) + imaginary (B)\n",
    "                 x / y,       # __truediv__ => Instance: real (A) + imaginary (B)\n",
    "                 x.mod(),     # mod method  => Instance: real (A) + imaginary (B)\n",
    "                 y.mod()]),   # mod method  => Instance: real (A) + imaginary (B)\n",
    "      sep = '\\n')"
   ]
  }
 ],
 "metadata": {
  "kernelspec": {
   "display_name": "Python 3",
   "language": "python",
   "name": "python3"
  },
  "language_info": {
   "codemirror_mode": {
    "name": "ipython",
    "version": 3
   },
   "file_extension": ".py",
   "mimetype": "text/x-python",
   "name": "python",
   "nbconvert_exporter": "python",
   "pygments_lexer": "ipython3",
   "version": "3.8.1"
  }
 },
 "nbformat": 4,
 "nbformat_minor": 4
}
