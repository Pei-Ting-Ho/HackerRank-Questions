{
 "cells": [
  {
   "cell_type": "code",
   "execution_count": 3,
   "metadata": {},
   "outputs": [
    {
     "name": "stdout",
     "output_type": "stream",
     "text": [
      "1 2 3\n",
      "The list contains 3 elements.\n"
     ]
    }
   ],
   "source": [
    "# False\n",
    "## Empty list\n",
    "## Empty dict\n",
    "## Empty set\n",
    "## Empty string\n",
    "## None\n",
    "## 0\n",
    "a = input().split()\n",
    "if a:\n",
    "    print(f'The list contains {len(a)} elements.')\n",
    "else:\n",
    "    print(f'No elements were entered.')"
   ]
  },
  {
   "cell_type": "code",
   "execution_count": 6,
   "metadata": {},
   "outputs": [
    {
     "name": "stdout",
     "output_type": "stream",
     "text": [
      "5\n",
      "The number entered >= 5.\n"
     ]
    }
   ],
   "source": [
    "# Ternary operator\n",
    "a = int(input())\n",
    "print('The number entered < 5.') if a < 5 else print('The number entered >= 5.')"
   ]
  },
  {
   "cell_type": "code",
   "execution_count": 8,
   "metadata": {},
   "outputs": [],
   "source": [
    "# Iterables\n",
    "## List\n",
    "## String\n",
    "## Set\n",
    "## Range \n",
    "## Dictionary\n",
    "d = {1: 1.0, 2: 2.0, 3: 3.0}"
   ]
  },
  {
   "cell_type": "code",
   "execution_count": null,
   "metadata": {},
   "outputs": [],
   "source": [
    "# Access keys\n",
    "for i in d.keys():\n",
    "    print(i)"
   ]
  },
  {
   "cell_type": "code",
   "execution_count": 10,
   "metadata": {},
   "outputs": [
    {
     "name": "stdout",
     "output_type": "stream",
     "text": [
      "1.0\n",
      "2.0\n",
      "3.0\n"
     ]
    }
   ],
   "source": [
    "# Access values: The index method\n",
    "for i in d:\n",
    "    print(d[i])"
   ]
  },
  {
   "cell_type": "code",
   "execution_count": 11,
   "metadata": {},
   "outputs": [
    {
     "name": "stdout",
     "output_type": "stream",
     "text": [
      "1.0\n",
      "2.0\n",
      "3.0\n"
     ]
    }
   ],
   "source": [
    "# Access values: The values method\n",
    "for i in d.values():\n",
    "    print(i)"
   ]
  },
  {
   "cell_type": "code",
   "execution_count": 12,
   "metadata": {},
   "outputs": [
    {
     "name": "stdout",
     "output_type": "stream",
     "text": [
      "1.0\n",
      "2.0\n",
      "3.0\n"
     ]
    }
   ],
   "source": [
    "# Access values: The get method\n",
    "for i in d:\n",
    "    print(d.get(i))"
   ]
  },
  {
   "cell_type": "code",
   "execution_count": 13,
   "metadata": {},
   "outputs": [
    {
     "name": "stdout",
     "output_type": "stream",
     "text": [
      "1: 1.0\n",
      "2: 2.0\n",
      "3: 3.0\n"
     ]
    }
   ],
   "source": [
    "# Access pairs\n",
    "for k, v in d.items():\n",
    "    print(f'{k}: {v}')"
   ]
  },
  {
   "cell_type": "code",
   "execution_count": 20,
   "metadata": {},
   "outputs": [
    {
     "name": "stdout",
     "output_type": "stream",
     "text": [
      "[1, 'a', 2, 'b', 3, 'c']\n",
      "[(0, 6), (0, 7), (1, 6), (1, 7)]\n",
      "[[0, 1, 2, 3, 4], [0, 1, 2, 3, 4], [0, 1, 2, 3, 4], [0, 1, 2, 3, 4], [0, 1, 2, 3, 4]]\n"
     ]
    }
   ],
   "source": [
    "# List comprehension\n",
    "## Flatten a tuple-list into a single-element list\n",
    "tuple_list = list(zip([1, 2, 3], ['a', 'b', 'c']))\n",
    "print([j for i in tuple_list for j in i])\n",
    "## Combine elements from each of two lists\n",
    "# List of tuples\n",
    "print([(x, y) for x in range(0, 2) for y in range(6, 8)])\n",
    "# List of lists\n",
    "print([[col for col in range(0, 5)] for row in range(0, 5)])"
   ]
  },
  {
   "cell_type": "code",
   "execution_count": 2,
   "metadata": {},
   "outputs": [
    {
     "name": "stdout",
     "output_type": "stream",
     "text": [
      "3\n",
      "0\n",
      "1\n",
      "2\n",
      "[0, 1, 2]\n"
     ]
    }
   ],
   "source": [
    "# Read intergers on the separate lines\n",
    "n = int(input())\n",
    "print([int(input()) for i in range(n)])"
   ]
  },
  {
   "cell_type": "code",
   "execution_count": 4,
   "metadata": {},
   "outputs": [
    {
     "name": "stdout",
     "output_type": "stream",
     "text": [
      "0 1 2\n",
      "0\n",
      "1\n",
      "2\n"
     ]
    }
   ],
   "source": [
    "# Read integers on the same line\n",
    "x, y, z = [int(i) for i in input().split()]\n",
    "print(x); print(y); print(z)"
   ]
  },
  {
   "cell_type": "code",
   "execution_count": 5,
   "metadata": {},
   "outputs": [
    {
     "name": "stdout",
     "output_type": "stream",
     "text": [
      "3 2\n",
      "0 1 2\n",
      "3 4 5\n",
      "6 7 8\n",
      "[[0, 1, 2], [3, 4, 5], [6, 7, 8]]\n"
     ]
    }
   ],
   "source": [
    "# Read a matrix: List of lists\n",
    "m, n = [int(i) for i in input().split()]\n",
    "print([[int(elt) for elt in input().split()] for row in range(m)])"
   ]
  },
  {
   "cell_type": "code",
   "execution_count": 7,
   "metadata": {},
   "outputs": [
    {
     "name": "stdout",
     "output_type": "stream",
     "text": [
      "one 1\n",
      "two 2\n",
      "three 3\n",
      "[['one', '1'], ['two', '2'], ['three', '3']]\n",
      "{'one': 1, 'two': 2, 'three': 3}\n"
     ]
    }
   ],
   "source": [
    "# Read a dictionary\n",
    "d = {}\n",
    "key_value_list = [input().split() for i in range(3)]\n",
    "print(key_value_list)\n",
    "\n",
    "for i in key_value_list:\n",
    "    d[i[0]] = int(i[1])\n",
    "print(d)"
   ]
  },
  {
   "cell_type": "code",
   "execution_count": null,
   "metadata": {},
   "outputs": [],
   "source": []
  }
 ],
 "metadata": {
  "kernelspec": {
   "display_name": "Python 3",
   "language": "python",
   "name": "python3"
  },
  "language_info": {
   "codemirror_mode": {
    "name": "ipython",
    "version": 3
   },
   "file_extension": ".py",
   "mimetype": "text/x-python",
   "name": "python",
   "nbconvert_exporter": "python",
   "pygments_lexer": "ipython3",
   "version": "3.7.3"
  }
 },
 "nbformat": 4,
 "nbformat_minor": 2
}
