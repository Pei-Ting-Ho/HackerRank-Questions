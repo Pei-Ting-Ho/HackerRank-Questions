{
 "cells": [
  {
   "cell_type": "code",
   "execution_count": 1,
   "metadata": {},
   "outputs": [],
   "source": [
    "import re "
   ]
  },
  {
   "cell_type": "code",
   "execution_count": 15,
   "metadata": {},
   "outputs": [
    {
     "name": "stdout",
     "output_type": "stream",
     "text": [
      "4\n",
      "4.0O0\n",
      "-1.00\n",
      "+4.54\n",
      "abc\n",
      "False\n",
      "True\n",
      "True\n",
      "False\n"
     ]
    }
   ],
   "source": [
    "# Given a string s, verify that s is a floating point number\n",
    "## Number can start with +, -, . symbol.\n",
    "## Number must contain at least 1 decimal value.\n",
    "## Number must have exactly one . symbol.\n",
    "\n",
    "# Input:\n",
    "## The first line contains an integer T, the number of test cases.\n",
    "## The next N line(s) contains a string.\n",
    "pattern = re.compile(r'[+-]?\\d*\\.\\d+')\n",
    "\n",
    "T = int(input())\n",
    "S = [input() for i in range(T)]\n",
    "\n",
    "for string in S:\n",
    "    if pattern.search(string):\n",
    "        try:\n",
    "            float(string)\n",
    "            print(True)\n",
    "        except ValueError:\n",
    "            print(False)\n",
    "    else:\n",
    "        print(False)"
   ]
  },
  {
   "cell_type": "code",
   "execution_count": 17,
   "metadata": {},
   "outputs": [
    {
     "name": "stdout",
     "output_type": "stream",
     "text": [
      "['Words', 'words', 'words', '']\n",
      "['Words', ', ', 'words', ', ', 'words', '.', '']\n",
      "['Words', 'words, words.']\n"
     ]
    }
   ],
   "source": [
    "# re.split(pattern, string, maxsplit = 0, flags = 0)\n",
    "# Split string by the occurrences of pattern\n",
    "## If capturing parentheses are used in pattern, then the text of all groups in the pattern are also returned.\n",
    "## If maxsplit is nonzero, at most maxsplit splits occur, and the remainder of the string is returned as the final element of the list.\n",
    "print(re.split(r'\\W+', 'Words, words, words.'))\n",
    "print(re.split(r'(\\W+)', 'Words, words, words.'))\n",
    "print(re.split(r'\\W+', 'Words, words, words.', maxsplit = 1))"
   ]
  },
  {
   "cell_type": "code",
   "execution_count": 16,
   "metadata": {},
   "outputs": [
    {
     "name": "stdout",
     "output_type": "stream",
     "text": [
      "100,000,000.000\n",
      "100\n",
      "000\n",
      "000\n",
      "000\n"
     ]
    }
   ],
   "source": [
    "# Given a string s consisting only of digits, commas, and dots, split all of the , and . symbols in string\n",
    "# Sample input: 100,000,000.000\n",
    "# Sample output: \n",
    "## 100\n",
    "## 000\n",
    "## 000\n",
    "## 000\n",
    "pattern = re.compile(r'[,.]')\n",
    "print(\"\\n\".join(pattern.split(input())))"
   ]
  },
  {
   "cell_type": "code",
   "execution_count": 26,
   "metadata": {},
   "outputs": [
    {
     "name": "stdout",
     "output_type": "stream",
     "text": [
      "['h', 't', 't', 'p', 'w', 'w', 'w', 'h', 'a', 'c', 'k', 'e', 'r', 'r', 'a', 'n', 'k', 'c', 'o', 'm']\n",
      "<callable_iterator object at 0x7f8d689ea790>\n",
      "<re.Match object; span=(0, 1), match='h'>\n"
     ]
    }
   ],
   "source": [
    "# re.findall(): Returns all the non-overlapping matches of patterns as a list of strings\n",
    "print(re.findall(r'\\w', 'http://www.hackerrank.com/'))\n",
    "# re.finditer(): Returns an iterator yielding MatchObject instances over all non-overlapping matches of patterns \n",
    "print(re.finditer(r'\\w', 'http://www.hackerrank.com/'))\n",
    "for match in re.finditer(r'\\w', 'http://www.hackerrank.com/'):\n",
    "    print(match)\n",
    "    break"
   ]
  },
  {
   "cell_type": "code",
   "execution_count": 32,
   "metadata": {},
   "outputs": [
    {
     "name": "stdout",
     "output_type": "stream",
     "text": [
      "aaadaa\n",
      "aa\n",
      "(0, 1)\n",
      "(1, 2)\n",
      "(4, 5)\n"
     ]
    }
   ],
   "source": [
    "# Given a string s, find the indices of the start and end of substring k in s\n",
    "# Input:\n",
    "## The first line contains the string s.\n",
    "## The second line contains the string k.\n",
    "# Output:\n",
    "## If match: (start_index, end_index)\n",
    "## If no match: (-1, -1)\n",
    "# Example:\n",
    "## aaadaa\n",
    "## aa\n",
    "## (0, 1)  \n",
    "## (1, 2)\n",
    "## (4, 5)\n",
    "s = input()\n",
    "k = input()\n",
    "\n",
    "# Positive lookaheads: (?=aa)\n",
    "# Returned match index: (0, 0), (1, 1), (4, 4)\n",
    "pattern = re.compile(r'(?={})'.format(k))\n",
    "matches = list(pattern.finditer(s))\n",
    "\n",
    "if matches:\n",
    "    for match in matches:\n",
    "        print((match.start(), match.start() + len(k) - 1))\n",
    "else:\n",
    "    print((-1, -1))"
   ]
  },
  {
   "cell_type": "code",
   "execution_count": 38,
   "metadata": {},
   "outputs": [
    {
     "name": "stdout",
     "output_type": "stream",
     "text": [
      "abaabaabaabaae\n",
      "aa\n",
      "aa\n",
      "aa\n"
     ]
    }
   ],
   "source": [
    "# Given a string s, consisting of alphanumeric characters, spaces and symbols (+, -)\n",
    "## Find all the substrings of s that contains >= 2 vowels\n",
    "## Substrings must lie in between 2 consonants and should contain vowels only\n",
    "\n",
    "# If match: Print the matched substrings in their order of occurrence on separate lines\n",
    "# If no match: Print -1\n",
    "\n",
    "# Sample input: rabcdeefgyYhFjkIoomnpOeorteeeeet\n",
    "# Sample output: \n",
    "## ee\n",
    "## Ioo\n",
    "## Oeo\n",
    "## eeeee\n",
    "s = input()\n",
    "\n",
    "# Positive lookbehinds: (?<=consonants)\n",
    "# Returned match group: vowels \n",
    "pattern = re.compile(r'(?<=[qwrtypsdfghjklzxcvbnm])([aeiou]{2,})[qwrtypsdfghjklzxcvbnm]', re.IGNORECASE)\n",
    "matches = pattern.findall(s)\n",
    "\n",
    "if matches:\n",
    "    for match in matches:\n",
    "        print(match)\n",
    "else:\n",
    "    print(-1)"
   ]
  },
  {
   "cell_type": "code",
   "execution_count": 41,
   "metadata": {},
   "outputs": [
    {
     "name": "stdout",
     "output_type": "stream",
     "text": [
      "11\n",
      "#BED\n",
      "{\n",
      "    color: #FfFdF8; background-color:#aef;\n",
      "    font-size: 123px;\n",
      "    background: -webkit-linear-gradient(top, #f9f9f9, #fff);\n",
      "}\n",
      "#Cab\n",
      "{\n",
      "    background-color: #ABC;\n",
      "    border: 2px dashed #fff;\n",
      "}\n",
      "#FfFdF8\n",
      "#aef\n",
      "#f9f9f9\n",
      "#fff\n",
      "#ABC\n",
      "#fff\n"
     ]
    }
   ],
   "source": [
    "# Specifications of HEX Color Code:\n",
    "## It must start with a # symbol.\n",
    "## It can have 3 or 6 digits.\n",
    "## Each digit is in the range of 0-9 or A-F/a-f.\n",
    "\n",
    "# CSS Code Pattern:\n",
    "## Selector\n",
    "## {\n",
    "##     Property: Value;\n",
    "## }\n",
    "\n",
    "# Input:\n",
    "## The first line contains n, the number of code lines.\n",
    "## The next n lines contain CSS Codes.\n",
    "# Output: Print the color codes with # symbols on separate lines\n",
    "n = int(input())\n",
    "css_codes = '\\n'.join([input() for i in range(n)])\n",
    "\n",
    "pattern = re.compile(r'(#[0-9a-fA-F]{6}|#[0-9a-fA-F]{3})[;,)]')\n",
    "matches = pattern.finditer(css_codes)\n",
    "for match in matches:\n",
    "    print(match.group(1))"
   ]
  },
  {
   "cell_type": "code",
   "execution_count": null,
   "metadata": {},
   "outputs": [],
   "source": [
    "# group(): Returns one or more subgroups of the match\n",
    "## m = re.match(r'(\\w+)@(\\w+)\\.(\\w+)', 'username@hackerrank.com')\n",
    "## m.group(0)         # The entire match: 'username@hackerrank.com'\n",
    "## m.group(1)         # The first parenthesized subgroup: 'username'\n",
    "## m.group(2)         # The second parenthesized subgroup: 'hackerrank'\n",
    "## m.group(3)         # The third parenthesized subgroup: 'com'\n",
    "## m.group(1, 2, 3)   # Multiple arguments give a tuple: ('username', 'hackerrank', 'com')\n",
    "\n",
    "# groups(): Returns a tuple containing all the subgroups of the match\n",
    "## m = re.match(r'(\\w+)@(\\w+)\\.(\\w+)',' username@hackerrank.com')\n",
    "## m.groups()         # ('username', 'hackerrank', 'com')\n",
    "\n",
    "# groupdict(): Returns a dictionary containing all the named subgroups of the match, keyed by the subgroup name\n",
    "## m = re.match(r'(?P<user>\\w+)@(?P<website>\\w+)\\.(?P<extension>\\w+)', 'myname@hackerrank.com')\n",
    "## m.groupdict()      # {'website': 'hackerrank', 'user': 'myname', 'extension': 'com'}"
   ]
  },
  {
   "cell_type": "code",
   "execution_count": 5,
   "metadata": {},
   "outputs": [
    {
     "name": "stdout",
     "output_type": "stream",
     "text": [
      "..12345678910111213141516171820212223\n",
      "1\n"
     ]
    }
   ],
   "source": [
    "# Given a string s, find the first occurrence of an alphanumeric character that has consecutive repetitions\n",
    "## If there are repeating characters, print the first occurrence of them\n",
    "## If there are no repeating characters, print -1\n",
    "s = input()\n",
    "\n",
    "# Use back-reference for repeating characters\n",
    "# Return the first match \n",
    "pattern = re.compile(r'([0-9a-zA-Z])\\1+')\n",
    "match = pattern.search(s)\n",
    "if match:\n",
    "    print(match.group(1))\n",
    "else:\n",
    "    print(-1)"
   ]
  },
  {
   "cell_type": "code",
   "execution_count": 10,
   "metadata": {},
   "outputs": [
    {
     "name": "stdout",
     "output_type": "stream",
     "text": [
      "3\n",
      "8956324712\n",
      "FACBGEGADB\n",
      "85234789651\n",
      "YES\n",
      "NO\n",
      "NO\n"
     ]
    }
   ],
   "source": [
    "# Given a string, verify whether it is a valid mobile number (10 digits starting with 7, 8, 9)\n",
    "# Input:\n",
    "## The first line contains an integer n, the number of inputs.\n",
    "## The next n lines contain some strings.\n",
    "# Output:\n",
    "## Print \"YES\" if it is a valid mobile number \n",
    "## Print \"NO\" if it is not a valid mobile number \n",
    "n = int(input())\n",
    "strings = [input() for i in range(n)]\n",
    "\n",
    "pattern = re.compile(r'^[789]\\d{9}$')\n",
    "for s in strings:\n",
    "    if pattern.match(s):\n",
    "        print(\"YES\")\n",
    "    else:\n",
    "        print(\"NO\")"
   ]
  },
  {
   "cell_type": "code",
   "execution_count": 14,
   "metadata": {},
   "outputs": [
    {
     "name": "stdout",
     "output_type": "stream",
     "text": [
      "2\n",
      "B1CD102354\n",
      "B1CDEF2354\n",
      "Invalid\n",
      "Valid\n"
     ]
    }
   ],
   "source": [
    "# A valid UID must follow the rules below:\n",
    "## It must contain at least 2 uppercase alphabet characters.\n",
    "## It must contain at least 3 digits.\n",
    "## It should only contain alphanumeric characters.\n",
    "## No character should repeat.\n",
    "## There must be exactly 10 characters in a valid UID.\n",
    "n = int(input())\n",
    "uids = [input() for i in range(n)]\n",
    "\n",
    "# Use back-reference for repeating characters\n",
    "# Use .* at the start of, at the end of, in the middle of string to find the possible orders of characters\n",
    "## A______B\n",
    "## ___AB___\n",
    "# Use function as dict's value to create multiple checks \n",
    "checks_dict = {'alpha': lambda uid: re.match(r'.*[A-Z].*[A-Z].*', uid),\n",
    "               'digits': lambda uid: re.match(r'.*\\d.*\\d.*\\d.*', uid),\n",
    "               'alphanum': lambda uid: re.match(r'[a-zA-Z0-9]{10}', uid),\n",
    "               'repeat': lambda uid: not re.match(r'.*(.).*\\1.*', uid)}\n",
    "\n",
    "for uid in uids:\n",
    "    checks_list = []\n",
    "    for check in checks_dict:\n",
    "        checks_list += [checks_dict[check](uid)]\n",
    "    if all(checks_list):\n",
    "        print(\"Valid\")\n",
    "    else:\n",
    "        print(\"Invalid\")"
   ]
  },
  {
   "cell_type": "code",
   "execution_count": 2,
   "metadata": {},
   "outputs": [
    {
     "name": "stdout",
     "output_type": "stream",
     "text": [
      "CDXXI\n",
      "True\n"
     ]
    }
   ],
   "source": [
    "# Roman numerals: Numbers are represented by putting the symbols into various combinations in different orders\n",
    "## I: 1, V: 5, X: 10, L: 50, C: 100, D: 500, M: 1000\n",
    "## Note: More than three identical symbols never appear in a row:\n",
    "## I is placed before V and X: IV (4) and IX (9).\n",
    "## X is placed before L (50) and C (100): XL (40) and XC (90).\n",
    "## C is placed before D (500) and M (1000): CD (400) and CM (900).\n",
    "## Breakdown: https://stackoverflow.com/questions/267399/how-do-you-match-only-valid-roman-numerals-with-a-regular-expression\n",
    "\n",
    "# Given a string, validate whether it's a valid Roman numeral (0 - 3999)\n",
    "# If it is valid, print True. \n",
    "# If it is invalid print False.\n",
    "s = input()\n",
    "\n",
    "thousand = 'M{0,3}'\n",
    "hundred = '(CM|CD|D?C{0,3})'\n",
    "ten = '(XC|XL|L?X{0,3})'\n",
    "digit = '(IX|IV|V?I{0,3})'\n",
    "\n",
    "pattern = '^' + thousand + hundred + ten + digit + '$'\n",
    "print(bool(re.match(pattern, s)))"
   ]
  },
  {
   "cell_type": "code",
   "execution_count": 8,
   "metadata": {},
   "outputs": [
    {
     "name": "stdout",
     "output_type": "stream",
     "text": [
      "9\n",
      "<head>\n",
      "head\n",
      "<title>HTML</title>\n",
      "title\n",
      "</head>\n",
      "<object type=\"application/x-flash\" \n",
      "  data=\"your-file.swf\" \n",
      "  width=\"0\" height=\"0\">\n",
      "object\n",
      "-> type > application/x-flash\n",
      "-> data > your-file.swf\n",
      "-> width > 0\n",
      "-> height > 0\n",
      "  <!-- <param name=\"movie\" value=\"your-file.swf\" /> -->\n",
      "  <param name=\"quality\" value=\"high\"/>\n",
      "param\n",
      "-> name > quality\n",
      "-> value > high\n",
      "</object>\n"
     ]
    }
   ],
   "source": [
    "# Given an HTML code snippet of N lines, detect and print all the HTML tags, attributes and attribute values\n",
    "## Tag1\n",
    "## Tag2\n",
    "## -> Attribute2[0] > Attribute_value2[0]\n",
    "## -> Attribute2[1] > Attribute_value2[1]\n",
    "## -> Attribute2[2] > Attribute_value2[2]\n",
    "## Tag3\n",
    "## -> Attribute3[0] > Attribute_value3[0]\n",
    "## Note: Do not detect any HTML tag, attribute or attribute value inside the HTML comment tags (<!-- Comments -->)\n",
    "from html.parser import HTMLParser\n",
    "\n",
    "class MyHTMLParser(HTMLParser):\n",
    "    def handle_starttag(self, tag, attrs):\n",
    "        print(tag)\n",
    "        for attr in attrs:\n",
    "            print(\"->\", attr[0], \">\", attr[1])\n",
    "\n",
    "parser = MyHTMLParser()\n",
    "\n",
    "for i in range(int(input())):\n",
    "    parser.feed(input())"
   ]
  }
 ],
 "metadata": {
  "kernelspec": {
   "display_name": "Python 3",
   "language": "python",
   "name": "python3"
  },
  "language_info": {
   "codemirror_mode": {
    "name": "ipython",
    "version": 3
   },
   "file_extension": ".py",
   "mimetype": "text/x-python",
   "name": "python",
   "nbconvert_exporter": "python",
   "pygments_lexer": "ipython3",
   "version": "3.8.1"
  }
 },
 "nbformat": 4,
 "nbformat_minor": 4
}
