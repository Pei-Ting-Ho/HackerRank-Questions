{
 "cells": [
  {
   "cell_type": "code",
   "execution_count": 3,
   "metadata": {},
   "outputs": [
    {
     "name": "stdout",
     "output_type": "stream",
     "text": [
      "HackerRank.com presents \"Pythonist 2\"\n",
      "hACKERrANK.COM PRESENTS \"pYTHONIST 2\"\n"
     ]
    }
   ],
   "source": [
    "# Swap cases: Lower case => Upper case; Upper case => Lower case\n",
    "def swap_case(s):\n",
    "    return s.swapcase()\n",
    "\n",
    "s = input()\n",
    "result = swap_case(s)\n",
    "print(result)"
   ]
  },
  {
   "cell_type": "code",
   "execution_count": 6,
   "metadata": {},
   "outputs": [
    {
     "name": "stdout",
     "output_type": "stream",
     "text": [
      "This is a string\n",
      "['This', 'is', 'a', 'string']\n",
      "This-is-a-string\n"
     ]
    }
   ],
   "source": [
    "# Split & Join\n",
    "## A string can be split on a delimiter.\n",
    "## A string can be joined by a delimiter.\n",
    "## Given a string, split the string on a \"space\" delimiter and join using a hyphen\n",
    "s = input()\n",
    "s = s.split(\" \"); print(s)   # Split: String => List of strings\n",
    "print(\"-\".join(s))           # Join: List of strings => String"
   ]
  },
  {
   "cell_type": "code",
   "execution_count": 7,
   "metadata": {},
   "outputs": [
    {
     "name": "stdout",
     "output_type": "stream",
     "text": [
      "This is a string\n",
      "This-is-a-string\n"
     ]
    }
   ],
   "source": [
    "def split_and_join(line):\n",
    "    list_of_strings = line.split(\" \")\n",
    "    return \"-\".join(list_of_strings)\n",
    "\n",
    "line = input()\n",
    "result = split_and_join(line)\n",
    "print(result)"
   ]
  },
  {
   "cell_type": "code",
   "execution_count": 9,
   "metadata": {},
   "outputs": [
    {
     "name": "stdout",
     "output_type": "stream",
     "text": [
      "Ross\n",
      "Taylor\n",
      "Hello Ross Taylor! You just delved into python.\n"
     ]
    }
   ],
   "source": [
    "# Given the first name and last name of a person on two different lines\n",
    "# Print the following: Hello firstname lastname! You just delved into python.\n",
    "firstname = input()\n",
    "lastname = input()\n",
    "print(f'Hello {firstname} {lastname}! You just delved into python.')"
   ]
  },
  {
   "cell_type": "code",
   "execution_count": null,
   "metadata": {},
   "outputs": [],
   "source": [
    "# Mutation: How to make changes to a string\n",
    "## Approach 1: Convert the string to a list and then change the value\n",
    "string = \"abracadabra\"\n",
    "list_of_strings = list(string)\n",
    "list_of_strings[5] = 'k'\n",
    "string = ''.join(list_of_strings); print(string)\n",
    "## Approach 2: Slice the string and join it back\n",
    "string = string[:5] + \"k\" + string[6:]"
   ]
  },
  {
   "cell_type": "code",
   "execution_count": 11,
   "metadata": {},
   "outputs": [
    {
     "name": "stdout",
     "output_type": "stream",
     "text": [
      "abracadabra\n",
      "5 k\n",
      "abrackdabra\n"
     ]
    }
   ],
   "source": [
    "# Read a given string, change the character at a given index and then print the modified string\n",
    "## The first line contains a string s.\n",
    "## The next line contains an integer i, denoting the index location and a character c separated by a space\n",
    "s = input()\n",
    "i, c = input().split()\n",
    "print(s[:int(i)] + c + s[int(i) + 1:])"
   ]
  },
  {
   "cell_type": "code",
   "execution_count": 18,
   "metadata": {},
   "outputs": [
    {
     "name": "stdout",
     "output_type": "stream",
     "text": [
      "ABCDCDC\n",
      "CDC\n",
      "2\n"
     ]
    }
   ],
   "source": [
    "# Find the number of times that the substring occurs in the given string \n",
    "## The first line contains the original string. \n",
    "## The next line contains the substring.\n",
    "## Note: Starting from every index of a string and counting all the way to the ith number of chars (len(substring))\n",
    "## Example: abcdcdc (cdc) => 'abc', 'bcd', 'cdc', 'dcd', 'cdc'\n",
    "string = input()\n",
    "substring = input()\n",
    "count_list = []\n",
    "for i in range(len(string) - len(substring) + 1):\n",
    "    if string[i:(i + len(substring))] == substring:\n",
    "        count_list.append(1)\n",
    "print(sum(count_list))"
   ]
  },
  {
   "cell_type": "code",
   "execution_count": 5,
   "metadata": {},
   "outputs": [
    {
     "name": "stdout",
     "output_type": "stream",
     "text": [
      "['This', 'is a', 'very', 'very', 'very', 'very', 'very', 'long', 'stri', 'ng.']\n",
      "This\n",
      "is a\n",
      "very\n",
      "very\n",
      "very\n",
      "very\n",
      "very\n",
      "long\n",
      "stri\n",
      "ng.\n"
     ]
    }
   ],
   "source": [
    "# Given a string s and width w, wrap the string into a paragraph of width w\n",
    "\n",
    "# Example:\n",
    "## ABCDEFGHIJKLIMNOQRSTUVWXYZ; 4\n",
    "## ABCD\n",
    "## ...\n",
    "## YZ\n",
    "\n",
    "# Note: Text wrap\n",
    "import textwrap\n",
    "## The wrap function\n",
    "## Wraps a single string so that every line is width characters long at most; Returns a list of output lines\n",
    "ex_string = \"This is a very very very very very long string.\"\n",
    "print(textwrap.wrap(ex_string, 4))\n",
    "## The fill function\n",
    "## Wraps a single string; Returns a single string containing the wrapped paragraph (= \"\\n\".join(wrap()))\n",
    "print(textwrap.fill(ex_string, 4))"
   ]
  },
  {
   "cell_type": "code",
   "execution_count": 6,
   "metadata": {},
   "outputs": [
    {
     "name": "stdout",
     "output_type": "stream",
     "text": [
      "ABCDEFGHIJKLIMNOQRSTUVWXYZ\n",
      "4\n",
      "ABCD\n",
      "EFGH\n",
      "IJKL\n",
      "IMNO\n",
      "QRST\n",
      "UVWX\n",
      "YZ\n"
     ]
    }
   ],
   "source": [
    "s, w = (input(), int(input()))\n",
    "print(textwrap.fill(s, w))"
   ]
  },
  {
   "cell_type": "code",
   "execution_count": 3,
   "metadata": {},
   "outputs": [
    {
     "name": "stdout",
     "output_type": "stream",
     "text": [
      "7 21\n",
      "---------.|.---------\n",
      "------.|..|..|.------\n",
      "---.|..|..|..|..|.---\n",
      "-------WELCOME-------\n",
      "---.|..|..|..|..|.---\n",
      "------.|..|..|.------\n",
      "---------.|.---------\n"
     ]
    }
   ],
   "source": [
    "# Mat size must be N x M (3N):\n",
    "## The design should have 'WELCOME' written in the center.\n",
    "## The design pattern should only use \"|\", \".\" and \"-\" characters\n",
    "## Example: 7 x 21\n",
    "## ---------.|.---------\n",
    "## ------.|..|..|.------\n",
    "## ---.|..|..|..|..|.---\n",
    "## -------WELCOME-------\n",
    "## ---.|..|..|..|..|.---\n",
    "## ------.|..|..|.------\n",
    "## ---------.|.---------\n",
    "n, m = map(int, input().split())\n",
    "\n",
    "# The top-part pattern\n",
    "## The integer division: The first-half of the plot\n",
    "## For each line, put the '.|.' in the center and fill the rest with '-' \n",
    "top_pattern = [('.|.' * (2 * i + 1)).center(m, '-') for i in range(n // 2)]\n",
    "\n",
    "# The middle line\n",
    "middle = ['WELCOME'.center(m, '-')]\n",
    "\n",
    "# The bottom-part pattern: Reversing the top-part pattern\n",
    "bottom_pattern = top_pattern[::-1]\n",
    "\n",
    "# Paste together\n",
    "print('\\n'.join(top_pattern + middle + bottom_pattern))"
   ]
  },
  {
   "cell_type": "code",
   "execution_count": 34,
   "metadata": {},
   "outputs": [
    {
     "name": "stdout",
     "output_type": "stream",
     "text": [
      "qA2\n",
      "True\n",
      "True\n",
      "True\n",
      "True\n",
      "True\n"
     ]
    }
   ],
   "source": [
    "# String validators\n",
    "## str.isalnum(): Checks if 'all' the characters of a string are alphanumeric (a-z, A-Z and 0-9)\n",
    "## str.isalpha(): Checks if 'all' the characters of a string are alphabetical (a-z and A-Z)\n",
    "## str.isdigit(): Checks if 'all' the characters of a string are digits (0-9)\n",
    "## str.islower()/str.isupper(): Checks if 'all' the characters of a string are lowercase/uppercase characters\n",
    "\n",
    "## First line: Print True if s has 'any' alphanumeric characters. Otherwise, print False.\n",
    "## Second line: Print True if s has 'any' alphabetical characters. Otherwise, print False.\n",
    "## Third line: Print True if s has 'any' digits. Otherwise, print False.\n",
    "## Fourth line: Print True if  has 'any' lowercase characters. Otherwise, print False.\n",
    "## Fifth line: Print True if s has 'any' uppercase characters. Otherwise, print False.\n",
    "\n",
    "# My solution\n",
    "s = input()\n",
    "print(True if sum([char.isalnum() for char in s]) >= 1 else False)\n",
    "print(True if sum([char.isalpha() for char in s]) >= 1 else False)\n",
    "print(True if sum([char.isdigit() for char in s]) >= 1 else False)\n",
    "print(True if sum([char.islower() for char in s]) >= 1 else False)\n",
    "print(True if sum([char.isupper() for char in s]) >= 1 else False)\n",
    "\n",
    "# More concise solution\n",
    "for method in [str.isalnum, str.isalpha, str.isdigit, str.islower, str.isupper]:\n",
    "    print any([method(char) for char in s])"
   ]
  },
  {
   "cell_type": "code",
   "execution_count": 39,
   "metadata": {},
   "outputs": [
    {
     "name": "stdout",
     "output_type": "stream",
     "text": [
      "HackerRank----------\n",
      "-----HackerRank-----\n",
      "----------HackerRank\n"
     ]
    }
   ],
   "source": [
    "# String alignment\n",
    "## str.ljust(width): Returns a left aligned string of length width\n",
    "print('HackerRank'.ljust(20, '-'))  \n",
    "## str.center(width): Returns a centered string of length width\n",
    "print('HackerRank'.center(20, '-'))\n",
    "## str.rjust(width): Returns a right aligned string of length width\n",
    "print('HackerRank'.rjust(20, '-'))"
   ]
  },
  {
   "cell_type": "code",
   "execution_count": 58,
   "metadata": {},
   "outputs": [
    {
     "name": "stdout",
     "output_type": "stream",
     "text": [
      "string\n",
      "_string\n",
      "__string\n",
      "string__\n",
      "string_\n",
      "_string_\n",
      "iPhone\n",
      "_iPhone_\n",
      "100\n",
      "_100_\n"
     ]
    }
   ],
   "source": [
    "# String formatting\n",
    "s = 'string'\n",
    "\n",
    "## Padding: A string can be padded to a specific length.\n",
    "### Align right\n",
    "print(s)\n",
    "print('{:_>7}'.format(s))\n",
    "print('{:_>8}'.format(s))\n",
    "### Align left\n",
    "print('{:_<8}'.format(s))\n",
    "print('{:_<7}'.format(s))\n",
    "### Align center\n",
    "print('{:_^8}'.format(s))\n",
    "\n",
    "## Truncating: A string can be truncated to a specific length.\n",
    "print('{:.6}'.format('iPhoneee'))\n",
    "\n",
    "## Padding + Truncating\n",
    "print('{:_^8.6}'.format('iPhoneee'))\n",
    "\n",
    "## Formatting numbers\n",
    "### Format number\n",
    "print('{:d}'.format(100))\n",
    "### Pad number\n",
    "print('{:_^5d}'.format(100))"
   ]
  },
  {
   "cell_type": "code",
   "execution_count": 6,
   "metadata": {},
   "outputs": [
    {
     "name": "stdout",
     "output_type": "stream",
     "text": [
      "3\n",
      "----c----\n",
      "--c-b-c--\n",
      "c-b-a-b-c\n",
      "c-b-a-b-c\n",
      "--c-b-c--\n",
      "----c----\n"
     ]
    }
   ],
   "source": [
    "# Given an integer n, print an alphabet rangoli of size n\n",
    "## size 3\n",
    "## ----c----\n",
    "## --c-b-c--\n",
    "## c-b-a-b-c\n",
    "## --c-b-c--\n",
    "## ----c----\n",
    "n = int(input())\n",
    "\n",
    "from string import ascii_lowercase as chars\n",
    "pattern = []\n",
    "for i in range(n):\n",
    "    s = \"-\".join(chars[i:n])\n",
    "    pattern.append((s[::-1] + s[1:]).center((4 * n - 3), \"-\"))\n",
    "print('\\n'.join(pattern[::-1] + pattern))"
   ]
  },
  {
   "cell_type": "code",
   "execution_count": 7,
   "metadata": {},
   "outputs": [
    {
     "name": "stdout",
     "output_type": "stream",
     "text": [
      "alison heck\n",
      "Alison Heck\n",
      "alison heck\n",
      "Alison Heck\n"
     ]
    }
   ],
   "source": [
    "# The first and last names of people begin with a capital letter in their passports:\n",
    "# alison heck => Alison Heck\n",
    "# Note: The string consists of alphanumeric characters and spaces: '123abc' => '123abc'\n",
    "\n",
    "# My solution, without considering the special case\n",
    "first_name, last_name = input().split()\n",
    "first_name = first_name[0].upper() + first_name[1:]\n",
    "last_name = last_name[0].upper() + last_name[1:]\n",
    "print(first_name + ' ' + last_name)\n",
    "\n",
    "# The solution\n",
    "name = input().split()\n",
    "print(' '.join([word.capitalize() for word in name]))"
   ]
  },
  {
   "cell_type": "code",
   "execution_count": 32,
   "metadata": {},
   "outputs": [
    {
     "name": "stdout",
     "output_type": "stream",
     "text": [
      "AABCAAADA\n",
      "3\n",
      "['AAB', 'CAA', 'ADA']\n",
      "AB\n",
      "CA\n",
      "AD\n"
     ]
    }
   ],
   "source": [
    "# Split s (n characters) into (n / k) subsegments where each subsegment, ti, consists of a contiguous block of k characters \n",
    "# Then, use each ti to create string ui, such that each character in ui occurs exactly once\n",
    "## The first line contains a single string s.\n",
    "## The second line contains an integer k, denoting the length of each subsegment.\n",
    "s = input()\n",
    "k = int(input())\n",
    "\n",
    "ti_list = []\n",
    "for i in range(0, len(s), k):\n",
    "    ti_list.append(s[i:(i + k)])\n",
    "print(ti_list)\n",
    "\n",
    "for ti in ti_list:\n",
    "    ui_list = []\n",
    "    for char in ti:\n",
    "        if char not in ui_list:\n",
    "            ui_list.append(char)\n",
    "    print(*ui_list, sep = '')"
   ]
  },
  {
   "cell_type": "code",
   "execution_count": 48,
   "metadata": {},
   "outputs": [
    {
     "name": "stdout",
     "output_type": "stream",
     "text": [
      "BANANA\n",
      "{'A': 3, 'AN': 2, 'ANA': 2, 'ANAN': 1, 'ANANA': 1}\n",
      "{'B': 1, 'N': 2, 'BA': 1, 'NA': 2, 'BAN': 1, 'NAN': 1, 'BANA': 1, 'NANA': 1, 'BANAN': 1, 'BANANA': 1}\n",
      "Stuart 12\n"
     ]
    }
   ],
   "source": [
    "# Both players are given the same string s.\n",
    "# Both players have to make substrings using the letters of the string s.\n",
    "# Stuart has to make words starting with consonants.\n",
    "# Kevin has to make words starting with vowels.\n",
    "# The game ends when both players have made all possible substrings.\n",
    "# A player gets 1 point for each occurrence of the substring in the string s.\n",
    "\n",
    "## Example: BANANA\n",
    "## Kevin: \n",
    "   # A: 3\n",
    "   # AN: 2\n",
    "   # ANA: 2\n",
    "   # ANAN: 1\n",
    "   # ANANA: 1\n",
    "    \n",
    "## Print one line: The name of the winner and their score separated by a space.\n",
    "## If the game is a draw, print Draw.\n",
    "\n",
    "# My solution, which will result in timeout error (multiple loops)\n",
    "s = input()\n",
    "vowels = ['A', 'E', 'I', 'O', 'U']\n",
    "\n",
    "substring_list = []\n",
    "for i in range(len(s)):\n",
    "    substring_list.append(s[i])\n",
    "\n",
    "for i in range(1, len(s)):\n",
    "    for j in range(0, len(s) - i):\n",
    "        substring_list.append(s[j:(j + i + 1)])\n",
    "    \n",
    "kevin_pts = {}\n",
    "for sub_str in substring_list:\n",
    "    if sub_str[0] in vowels:\n",
    "        if sub_str not in kevin_pts:\n",
    "            kevin_pts[sub_str] = 1\n",
    "        else:\n",
    "            kevin_pts[sub_str] = kevin_pts.get(sub_str) + 1\n",
    "print(kevin_pts)\n",
    "\n",
    "stuart_pts = {}\n",
    "for sub_str in substring_list:\n",
    "    if sub_str[0] not in vowels:\n",
    "        if sub_str not in stuart_pts:\n",
    "            stuart_pts[sub_str] = 1\n",
    "        else:\n",
    "            stuart_pts[sub_str] = stuart_pts.get(sub_str) + 1\n",
    "print(stuart_pts)    \n",
    "\n",
    "kevin_score = sum([v for v in kevin_pts.values()])\n",
    "stuart_score = sum([v for v in stuart_pts.values()])\n",
    "if kevin_score > stuart_score:\n",
    "    print(f'Kevin {kevin_score}')\n",
    "elif kevin_score < stuart_score:\n",
    "    print(f'Stuart {stuart_score}')\n",
    "else:\n",
    "    print('Draw')"
   ]
  },
  {
   "cell_type": "code",
   "execution_count": 49,
   "metadata": {},
   "outputs": [
    {
     "name": "stdout",
     "output_type": "stream",
     "text": [
      "BANANA\n",
      "Stuart 12\n"
     ]
    }
   ],
   "source": [
    "# The solution, solveing the problem mathematically instead of checking every possible combinations\n",
    "s = input()\n",
    "vowels = ['A', 'E', 'I', 'O', 'U']\n",
    "\n",
    "kevin_score = 0\n",
    "stuart_score = 0\n",
    "for i in range(len(s)):\n",
    "    if s[i] in vowels:\n",
    "        kevin_score += len(s) - i\n",
    "    else:\n",
    "        stuart_score += len(s) - i\n",
    "\n",
    "if kevin_score > stuart_score:\n",
    "    print(f'Kevin {kevin_score}')\n",
    "elif kevin_score < stuart_score:\n",
    "    print(f'Stuart {stuart_score}')\n",
    "else:\n",
    "    print('Draw')"
   ]
  }
 ],
 "metadata": {
  "kernelspec": {
   "display_name": "Python 3",
   "language": "python",
   "name": "python3"
  },
  "language_info": {
   "codemirror_mode": {
    "name": "ipython",
    "version": 3
   },
   "file_extension": ".py",
   "mimetype": "text/x-python",
   "name": "python",
   "nbconvert_exporter": "python",
   "pygments_lexer": "ipython3",
   "version": "3.8.1"
  }
 },
 "nbformat": 4,
 "nbformat_minor": 2
}
