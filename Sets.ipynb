{
 "cells": [
  {
   "cell_type": "code",
   "execution_count": 8,
   "metadata": {},
   "outputs": [
    {
     "name": "stdout",
     "output_type": "stream",
     "text": [
      "10 \n",
      "161 182 161 154 176 170 167 171 170 174\n",
      "169.375\n"
     ]
    }
   ],
   "source": [
    "# An unordered collection of elements without duplicate entries\n",
    "# Used for membership testing and eliminating duplicate entries\n",
    "\n",
    "## The first line contains the integer n, the total number of plants.\n",
    "## The second line contains the n space separated heights of the plants.\n",
    "## Compute the average of all the plants with distinct heights\n",
    "n = int(input())\n",
    "distinct_heights = set(map(float, input().split()))\n",
    "print(sum(distinct_heights) / len(distinct_heights))"
   ]
  },
  {
   "cell_type": "code",
   "execution_count": 10,
   "metadata": {},
   "outputs": [
    {
     "name": "stdout",
     "output_type": "stream",
     "text": [
      "7\n",
      "UK\n",
      "China\n",
      "USA\n",
      "France\n",
      "New Zealand\n",
      "UK\n",
      "France\n",
      "5\n"
     ]
    }
   ],
   "source": [
    "# Add a single element to an existing set, use the .add() operation\n",
    "# Adds the element to the set; Returns 'None' (= Works in-place)\n",
    "\n",
    "# Add an iterable object to an existing set, use the .update() operation\n",
    "# Adds the elements to the set; Returns 'None' (= Works in-place)\n",
    "\n",
    "\n",
    "## The first line contains an integer n, the total number of country stamps.\n",
    "## The next n lines contain the name of the country where the stamp is from.\n",
    "## Find the total number of distinct country stamps\n",
    "n = int(input())\n",
    "distinct_country_stamps = set()\n",
    "for i in range(n):\n",
    "    distinct_country_stamps.add(input()) \n",
    "print(len(distinct_country_stamps))"
   ]
  },
  {
   "cell_type": "code",
   "execution_count": null,
   "metadata": {},
   "outputs": [],
   "source": [
    "# Remove & Discard\n",
    "# set.remove(): \n",
    "  # Removes an element from the set; If an element does not exist, it raises a KeyError.\n",
    "  # Works in-place\n",
    "# set.discard():\n",
    "  # Removes an element from the set; If an element does not exist, it does not raise a KeyError.\n",
    "  # Works in-place\n",
    "# set.pop():\n",
    "  # Removes and returns an arbitrary element from the set; \n",
    "  # If there are no elements to remove, it raises a KeyError."
   ]
  },
  {
   "cell_type": "code",
   "execution_count": 11,
   "metadata": {},
   "outputs": [
    {
     "name": "stdout",
     "output_type": "stream",
     "text": [
      "9\n",
      "1 2 3 4 5 6 7 8 9\n",
      "10\n",
      "pop\n",
      "remove 9\n",
      "discard 9\n",
      "discard 8\n",
      "remove 7\n",
      "pop\n",
      "discard 6\n",
      "remove 5\n",
      "pop\n",
      "discard 5\n",
      "4\n"
     ]
    }
   ],
   "source": [
    "# You have a non-empty set s, and you have to execute n commands given in n lines.\n",
    "# Print the sum of the elements of set s\n",
    "## The first line contains integer n, the number of elements in the set s.\n",
    "## The second line contains n space separated elements of set s (All of the elements are non-negative integers, less than or equal to 9.)\n",
    "## The third line contains integer m, the number of commands.\n",
    "## The next m lines contain either pop, remove and/or discard commands followed by their associated value.\n",
    "n = int(input())\n",
    "s = set(map(int, input().split()))\n",
    "n_ops = int(input())\n",
    "for i in range(n_ops):\n",
    "    cmd = input().split()\n",
    "    if cmd[0] == 'remove':\n",
    "        s.remove(int(cmd[1]))\n",
    "    elif cmd[0] == 'discard':\n",
    "        s.discard(int(cmd[1]))\n",
    "    else:\n",
    "        s.pop()\n",
    "print(sum(s))"
   ]
  },
  {
   "cell_type": "code",
   "execution_count": null,
   "metadata": {},
   "outputs": [],
   "source": [
    "# Union\n",
    "## Returns the union of A (Set) and B (Iterable)\n",
    "## The | operator can only be used on the set, not on other iterables.\n",
    "## Symmetric: a.union(b) == b.union(a)\n",
    "\n",
    "# Intersection\n",
    "## Returns the intersection of A (Set) and B (Iterable)\n",
    "## The & operator can only be used on the set, not on other iterables.\n",
    "## Symmetric: a.intersection(b) == b.intersection(a)\n",
    "\n",
    "# Difference\n",
    "## Returns the difference of A (Set) and B (Iterable)\n",
    "## The - operator can only be used on the set, not on other iterables.\n",
    "\n",
    "# Symmetric difference\n",
    "## Returns the symmetric difference of A (Set) and B (Iterable)\n",
    "## The ^ operator can only be used on the set, not on other iterables."
   ]
  },
  {
   "cell_type": "code",
   "execution_count": 18,
   "metadata": {},
   "outputs": [],
   "source": [
    "## Set 1: Subscribed to the English newspaper\n",
    "## Set 2: Subscribed to the French newspaper\n",
    "\n",
    "## The first line contains an integer a, the number of students who have subscribed to the English newspaper.\n",
    "## The second line contains 'a' space separated roll numbers of those students.\n",
    "## The third line contains an integer b, the number of students who have subscribed to the French newspaper.\n",
    "## The fourth line contains 'b' space separated roll numbers of those students."
   ]
  },
  {
   "cell_type": "code",
   "execution_count": 19,
   "metadata": {},
   "outputs": [
    {
     "name": "stdout",
     "output_type": "stream",
     "text": [
      "9\n",
      "1 2 3 4 5 6 7 8 9\n",
      "9\n",
      "10 1 2 3 11 21 55 6 8\n",
      "{1, 2, 3, 4, 5, 6, 7, 8, 9, 10, 11, 21, 55} {1, 2, 3, 4, 5, 6, 7, 8, 9, 10, 11, 21, 55}\n",
      "13\n"
     ]
    }
   ],
   "source": [
    "# Find the total number of students who have subscribed to at least one newspaper\n",
    "a = int(input())\n",
    "eng_stds = set(map(int, input().split()))\n",
    "b = int(input())\n",
    "fre_stds = set(map(int, input().split()))\n",
    "print(eng_stds.union(fre_stds), eng_stds | fre_stds)\n",
    "print(len(eng_stds.union(fre_stds)))"
   ]
  },
  {
   "cell_type": "code",
   "execution_count": 16,
   "metadata": {},
   "outputs": [
    {
     "name": "stdout",
     "output_type": "stream",
     "text": [
      "9\n",
      "1 2 3 4 5 6 7 8 9\n",
      "9\n",
      "10 1 2 3 11 21 55 6 8\n",
      "{1, 2, 3, 6, 8} {1, 2, 3, 6, 8}\n",
      "5\n"
     ]
    }
   ],
   "source": [
    "# Find the total number of students who have subscribed to both newspapers\n",
    "a = int(input())\n",
    "eng_stds = set(map(int, input().split()))\n",
    "b = int(input())\n",
    "fre_stds = set(map(int, input().split()))\n",
    "print(eng_stds.intersection(fre_stds), eng_stds & fre_stds)\n",
    "print(len(eng_stds.intersection(fre_stds)))"
   ]
  },
  {
   "cell_type": "code",
   "execution_count": 20,
   "metadata": {},
   "outputs": [
    {
     "name": "stdout",
     "output_type": "stream",
     "text": [
      "9\n",
      "1 2 3 4 5 6 7 8 9\n",
      "9\n",
      "10 1 2 3 11 21 55 6 8\n",
      "{9, 4, 5, 7} {9, 4, 5, 7}\n",
      "4\n"
     ]
    }
   ],
   "source": [
    "# Find the total number of students who have subscribed to only English newspapers\n",
    "a = int(input())\n",
    "eng_stds = set(map(int, input().split()))\n",
    "b = int(input())\n",
    "fre_stds = set(map(int, input().split()))\n",
    "print(eng_stds.difference(fre_stds), eng_stds - fre_stds)\n",
    "print(len(eng_stds.difference(fre_stds)))"
   ]
  },
  {
   "cell_type": "code",
   "execution_count": 21,
   "metadata": {},
   "outputs": [
    {
     "name": "stdout",
     "output_type": "stream",
     "text": [
      "9\n",
      "1 2 3 4 5 6 7 8 9\n",
      "9\n",
      "10 1 2 3 11 21 55 6 8\n",
      "{4, 5, 7, 9, 10, 11, 21, 55} {4, 5, 7, 9, 10, 11, 21, 55}\n",
      "8\n"
     ]
    }
   ],
   "source": [
    "# Find the total number of students who have subscribed to either the English or the French newspaper but not both\n",
    "a = int(input())\n",
    "eng_stds = set(map(int, input().split()))\n",
    "b = int(input())\n",
    "fre_stds = set(map(int, input().split()))\n",
    "print(eng_stds.symmetric_difference(fre_stds), eng_stds ^ fre_stds)\n",
    "print(len(eng_stds.symmetric_difference(fre_stds)))"
   ]
  },
  {
   "cell_type": "code",
   "execution_count": 22,
   "metadata": {},
   "outputs": [
    {
     "name": "stdout",
     "output_type": "stream",
     "text": [
      "4\n",
      "2 4 5 9\n",
      "4\n",
      "2 4 11 12\n",
      "5\n",
      "9\n",
      "11\n",
      "12\n"
     ]
    }
   ],
   "source": [
    "# Given 2 sets of integers, m and n, print their symmetric difference in ascending order. \n",
    "## The first line of input contains an integer m.\n",
    "## The second line contains m space-separated integers.\n",
    "## The third line contains an integer n.\n",
    "## The fourth line contains n space-separated integers.\n",
    "m = int(input())\n",
    "s1 = set(map(int, input().split()))\n",
    "n = int(input())\n",
    "s2 = set(map(int, input().split()))\n",
    "for elt in sorted(s1 ^ s2):\n",
    "    print(elt)"
   ]
  },
  {
   "cell_type": "code",
   "execution_count": 2,
   "metadata": {},
   "outputs": [
    {
     "name": "stdout",
     "output_type": "stream",
     "text": [
      "3\n",
      "5\n",
      "1 2 3 5 6\n",
      "9\n",
      "9 8 5 6 3 2 1 4 7\n",
      "True\n",
      "1\n",
      "2\n",
      "5\n",
      "3 6 5 4 1\n",
      "False\n",
      "7\n",
      "1 2 3 5 6 8 9\n",
      "3\n",
      "9 8 2\n",
      "False\n"
     ]
    }
   ],
   "source": [
    "# Find whether set A is a subset of set B \n",
    "# Subset: Intersection = Set A\n",
    "## The first line will contain the number of test cases.\n",
    "## The first line of each test case contains the number of elements in set A.\n",
    "## The second line of each test case contains the space separated elements of set A.\n",
    "## The third line of each test case contains the number of elements in set B.\n",
    "## The fourth line of each test case contains the space separated elements of set B.\n",
    "n = int(input())\n",
    "for i in range(n):\n",
    "    n_a = int(input())\n",
    "    set_a = set(input().split())\n",
    "    n_b = int(input())\n",
    "    set_b = set(input().split())      \n",
    "    if set_a & set_b == set_a:\n",
    "        print(True)\n",
    "    else:\n",
    "        print(False)"
   ]
  },
  {
   "cell_type": "code",
   "execution_count": null,
   "metadata": {},
   "outputs": [],
   "source": [
    "# Create mutations to a set\n",
    "## .update() or |=\n",
    "## .intersection_update() or &=\n",
    "## .difference_update() or -=\n",
    "## .symmetric_difference_update() or ^="
   ]
  },
  {
   "cell_type": "code",
   "execution_count": 4,
   "metadata": {},
   "outputs": [
    {
     "name": "stdout",
     "output_type": "stream",
     "text": [
      "16\n",
      "1 2 3 4 5 6 7 8 9 10 11 12 13 14 24 52\n",
      "4\n",
      "intersection_update 10\n",
      "2 3 5 6 8 9 1 4 7 11\n",
      "update 2\n",
      "55 66\n",
      "symmetric_difference_update 5\n",
      "22 7 35 62 58\n",
      "difference_update 7\n",
      "11 22 35 55 58 62 66\n",
      "38\n"
     ]
    }
   ],
   "source": [
    "# Given a set A and N number of other sets,\n",
    "# These N number of sets have to perform some specific mutation operations on set A.\n",
    "# Execute those operations and print the sum of elements from set A\n",
    "\n",
    "## The first line contains the number of elements in set A.\n",
    "## The second line contains the space separated list of elements in set A.\n",
    "## The third line contains integer N, the number of other sets.\n",
    "## The next 2*N lines are divided into N parts containing two lines each.\n",
    "   ### The first line of each part: The operation name + The length of the other set.\n",
    "   ### The second line of each part: The space separated list of elements in the set\n",
    "n_a = int(input())\n",
    "set_a = set(input().split())\n",
    "n_other_sets = int(input())\n",
    "for i in range(n_other_sets):\n",
    "    cmd = input().split()\n",
    "    op, length = [cmd[0], cmd[1]]\n",
    "    set_other = set(input().split())\n",
    "    getattr(set_a, op)(set_other)\n",
    "print(sum(map(int, set_a)))"
   ]
  },
  {
   "cell_type": "code",
   "execution_count": 7,
   "metadata": {},
   "outputs": [
    {
     "name": "stdout",
     "output_type": "stream",
     "text": [
      "16\n",
      "1 2 3 4 5 6 7 8 9 10 11 12 13 14 24 52\n",
      "4\n",
      "intersection_update 10\n",
      "2 3 5 6 8 9 1 4 7 11\n",
      "update 2\n",
      "55 66\n",
      "symmetric_difference_update 5\n",
      "22 7 35 62 58\n",
      "difference_update 7\n",
      "11 22 35 55 58 62 66\n",
      "38\n"
     ]
    }
   ],
   "source": [
    "n_a = int(input())\n",
    "set_a = set(input().split())\n",
    "n_other_sets = int(input())\n",
    "\n",
    "ops_dict = {'intersection_update': set_a.intersection_update,\n",
    "            'update': set_a.update,\n",
    "            'difference_update': set_a.difference_update,\n",
    "            'symmetric_difference_update': set_a.symmetric_difference_update}\n",
    "for i in range(n_other_sets):\n",
    "    cmd = input().split()\n",
    "    op, length = [cmd[0], cmd[1]]\n",
    "    set_other = set(input().split())\n",
    "    ops_dict[op](set_other)\n",
    "print(sum(map(int, set_a)))"
   ]
  },
  {
   "cell_type": "code",
   "execution_count": null,
   "metadata": {},
   "outputs": [],
   "source": [
    "# Find whether set A is a strict superset of each of the N sets\n",
    "# Superset:\n",
    "## Superset: A is said to be a superset of B, if B is contained inside A (All elements of B are also elements of A).\n",
    "## Strict superset: A is said to be a superset of B, if A has at least one element that does not exist in its subset B.\n",
    "\n",
    "# Methods:\n",
    "## s.issuperset(iterable)\n",
    "## s1 >= s2 (Superset); s1 > s2 (Strict superset)"
   ]
  },
  {
   "cell_type": "code",
   "execution_count": 10,
   "metadata": {},
   "outputs": [
    {
     "name": "stdout",
     "output_type": "stream",
     "text": [
      "1 2 3 4 5 6 7 8 9 10 11 12 23 45 84 78\n",
      "2\n",
      "1 2 3 4 5\n",
      "100 11 12\n",
      "False\n"
     ]
    }
   ],
   "source": [
    "# The first line contains the space separated elements of set A.\n",
    "# The second line contains integer n, the number of other sets.\n",
    "# The next n lines contain the space separated elements of the other sets.\n",
    "set_a = set(input().split())\n",
    "n = int(input())\n",
    "set_other = [set(input().split()) for i in range(n)]\n",
    "\n",
    "if all([set_a > s for s in set_other]):\n",
    "    print(True)\n",
    "else:\n",
    "    print(False)"
   ]
  },
  {
   "cell_type": "code",
   "execution_count": 12,
   "metadata": {},
   "outputs": [
    {
     "name": "stdout",
     "output_type": "stream",
     "text": [
      "5\n",
      "1 2 3 6 5 4 4 2 5 3 6 1 6 5 3 2 4 1 2 5 1 4 3 6 8 4 3 1 5 6 2\n",
      "8\n"
     ]
    }
   ],
   "source": [
    "# The tourists consist of:\n",
    "## A Captain (1 room)\n",
    "## An unknown group of families consisting of K members per group where K != 1 (1 room per group)\n",
    "\n",
    "# An unordered list of room numbers\n",
    "## The K times per group + The Captain's room number\n",
    "## Find the Captain's room number\n",
    "\n",
    "# Input\n",
    "## The first line consists of an integer K, the size of each group.\n",
    "## The second line contains the unordered elements of the room number list.\n",
    "k = int(input())\n",
    "room_num_list = input().split()\n",
    "\n",
    "room_num_dict = {}\n",
    "for i in room_num_list:\n",
    "    if i not in room_num_dict:\n",
    "        room_num_dict[i] = 1\n",
    "    else:\n",
    "        room_num_dict[i] = room_num_dict.get(i) + 1\n",
    "\n",
    "for key in room_num_dict:\n",
    "    if room_num_dict[key] == 1:\n",
    "        print(key)"
   ]
  },
  {
   "cell_type": "code",
   "execution_count": 15,
   "metadata": {},
   "outputs": [
    {
     "name": "stdout",
     "output_type": "stream",
     "text": [
      "5\n",
      "1 2 3 6 5 4 4 2 5 3 6 1 6 5 3 2 4 1 2 5 1 4 3 6 8 4 3 1 5 6 2\n",
      "8\n"
     ]
    }
   ],
   "source": [
    "# Think from the math perspective: Solve for Xn+1\n",
    "# The sum of the list:\n",
    "  ## = K * (X1 + X2 + ... Xn) + Xn+1, n = Number of groups\n",
    "  ## = K * (X1 + X2 + ... + Xn + Xn+1) - K * Xn+1 + Xn+1\n",
    "# Known:\n",
    "  ## The sum of the list\n",
    "  ## The sum of the unique values\n",
    "  ## K\n",
    "  ## Then all set!\n",
    "k = int(input())\n",
    "room_num_list = list(map(int, input().split()))\n",
    "print((k * sum(set(room_num_list)) - sum(room_num_list)) // (k - 1))"
   ]
  },
  {
   "cell_type": "code",
   "execution_count": 16,
   "metadata": {},
   "outputs": [
    {
     "name": "stdout",
     "output_type": "stream",
     "text": [
      "3 2\n",
      "1 5 3\n",
      "3 1\n",
      "5 7\n",
      "1\n"
     ]
    }
   ],
   "source": [
    "# There is an array of n integers. \n",
    "# There are also 2 disjoint sets, A and B, each containing m integers.\n",
    "\n",
    "## Your initial happiness is 0. For each integer in the array, \n",
    "## If i is in A, you add 1 to your happiness.\n",
    "## If i is in B, you add -1 to your happiness.\n",
    "## Otherwise, your happiness does not change. \n",
    "## Output your final happiness at the end\n",
    "\n",
    "## The first line contains integers n and m, separated by a space.\n",
    "## The second line contains n integers, the elements of the array.\n",
    "## The third and fourth lines contain m integers, A and B, respectively.\n",
    "n, m = map(int, input().split())\n",
    "array = list(map(int, input().split()))\n",
    "set_a = set(map(int, input().split()))\n",
    "set_b = set(map(int, input().split()))\n",
    "\n",
    "happiness = 0\n",
    "for i in array:\n",
    "    if i in set_a:\n",
    "        happiness += 1\n",
    "    elif i in set_b:\n",
    "        happiness -= 1\n",
    "print(happiness)"
   ]
  }
 ],
 "metadata": {
  "kernelspec": {
   "display_name": "Python 3",
   "language": "python",
   "name": "python3"
  },
  "language_info": {
   "codemirror_mode": {
    "name": "ipython",
    "version": 3
   },
   "file_extension": ".py",
   "mimetype": "text/x-python",
   "name": "python",
   "nbconvert_exporter": "python",
   "pygments_lexer": "ipython3",
   "version": "3.8.1"
  }
 },
 "nbformat": 4,
 "nbformat_minor": 2
}
