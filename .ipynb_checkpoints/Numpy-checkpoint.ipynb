{
 "cells": [
  {
   "cell_type": "code",
   "execution_count": 2,
   "metadata": {},
   "outputs": [
    {
     "name": "stdout",
     "output_type": "stream",
     "text": [
      "2\n",
      "2.0\n"
     ]
    }
   ],
   "source": [
    "# Numpy array\n",
    "## Similar to lists, except that every element of an array must be of the same type\n",
    "## Example\n",
    "import numpy as np\n",
    "a = np.array([1, 2, 3, 4, 5])\n",
    "print(a[1])          \n",
    "b = np.array([1, 2, 3, 4, 5], float)\n",
    "print(b[1])          "
   ]
  },
  {
   "cell_type": "code",
   "execution_count": 4,
   "metadata": {},
   "outputs": [
    {
     "name": "stdout",
     "output_type": "stream",
     "text": [
      "1 2 3 4 -8 -10\n",
      "[-10.  -8.   4.   3.   2.   1.]\n"
     ]
    }
   ],
   "source": [
    "# Given a space separated list of numbers, print a reversed NumPy array with the element type float\n",
    "def arrays(arr):\n",
    "    return np.array(list(reversed(arr)), float)\n",
    "\n",
    "arr = input().split(' ')\n",
    "result = arrays(arr)\n",
    "print(result)"
   ]
  },
  {
   "cell_type": "code",
   "execution_count": 7,
   "metadata": {},
   "outputs": [
    {
     "name": "stdout",
     "output_type": "stream",
     "text": [
      "(5,)\n",
      "(3, 2)\n",
      "[[1 2]\n",
      " [3 4]\n",
      " [5 6]]\n",
      "[[1 2]\n",
      " [3 4]\n",
      " [5 6]]\n"
     ]
    }
   ],
   "source": [
    "# Shape \n",
    "## The shape tool gives a tuple of array dimensions.\n",
    "## It can be used to change the dimensions of an array.\n",
    "### Get the array dimensions\n",
    "array_1 = np.array([1, 2, 3, 4, 5])\n",
    "array_2 = np.array([[1, 2], [3, 4], [5, 6]])\n",
    "print(array_1.shape)     \n",
    "print(array_2.shape)\n",
    "### Change the array dimensions\n",
    "change_array = np.array([1, 2, 3, 4, 5, 6])\n",
    "change_array.shape = (3, 2)\n",
    "print(change_array)      \n",
    "\n",
    "# Reshape\n",
    "## The reshape tool gives a new shape to an array without changing its data. \n",
    "## It creates a new array and does not modify the original array itself.\n",
    "array_3 = np.array([1, 2, 3, 4, 5, 6])\n",
    "print(np.reshape(array_3, (3, 2)))"
   ]
  },
  {
   "cell_type": "code",
   "execution_count": 8,
   "metadata": {},
   "outputs": [
    {
     "name": "stdout",
     "output_type": "stream",
     "text": [
      "1 2 3 4 5 6 7 8 9\n",
      "[[1 2 3]\n",
      " [4 5 6]\n",
      " [7 8 9]]\n"
     ]
    }
   ],
   "source": [
    "# Given a space separated list of nine integers, convert the list into a 3*3 NumPy array\n",
    "def array_reshape(arr):\n",
    "    return np.reshape(arr, (3, 3))\n",
    "\n",
    "arr = np.array(input().split(), int)\n",
    "result = array_reshape(arr)\n",
    "print(result)"
   ]
  },
  {
   "cell_type": "code",
   "execution_count": 9,
   "metadata": {},
   "outputs": [
    {
     "name": "stdout",
     "output_type": "stream",
     "text": [
      "[[0 0]]\n",
      "[[1 1]]\n"
     ]
    }
   ],
   "source": [
    "# Zeros & Ones\n",
    "print(np.zeros((1, 2), dtype = np.int))\n",
    "print(np.ones((1, 2), dtype = np.int))"
   ]
  },
  {
   "cell_type": "code",
   "execution_count": 13,
   "metadata": {},
   "outputs": [
    {
     "name": "stdout",
     "output_type": "stream",
     "text": [
      "3 3 3\n",
      "[[[0 0 0]\n",
      "  [0 0 0]\n",
      "  [0 0 0]]\n",
      "\n",
      " [[0 0 0]\n",
      "  [0 0 0]\n",
      "  [0 0 0]]\n",
      "\n",
      " [[0 0 0]\n",
      "  [0 0 0]\n",
      "  [0 0 0]]]\n",
      "[[[1 1 1]\n",
      "  [1 1 1]\n",
      "  [1 1 1]]\n",
      "\n",
      " [[1 1 1]\n",
      "  [1 1 1]\n",
      "  [1 1 1]]\n",
      "\n",
      " [[1 1 1]\n",
      "  [1 1 1]\n",
      "  [1 1 1]]]\n"
     ]
    }
   ],
   "source": [
    "# Given the shape of the array in the form of space-separated integers, each integer representing the size of different dimensions\n",
    "# Print an array of the given shape and integer type using the tools numpy.zeros and numpy.ones\n",
    "# Example: 3 (Row) 3 (Column) 3 (Number)\n",
    "## [[[0 0 0]\n",
    "##   [0 0 0]\n",
    "##   [0 0 0]]\n",
    "\n",
    "## [[0 0 0]\n",
    "##  [0 0 0]\n",
    "##  [0 0 0]]\n",
    "\n",
    "## [[0 0 0]\n",
    "##  [0 0 0]\n",
    "##  [0 0 0]]]\n",
    "\n",
    "## [[[1 1 1]\n",
    "##   [1 1 1]\n",
    "##   [1 1 1]]\n",
    "\n",
    "## [[1 1 1]\n",
    "##  [1 1 1]\n",
    "##  [1 1 1]]\n",
    "\n",
    "## [[1 1 1]\n",
    "##  [1 1 1]\n",
    "##  [1 1 1]]]\n",
    "dim = tuple(map(int, input().split()))\n",
    "print(np.zeros(dim, dtype = np.int))\n",
    "print(np.ones(dim, dtype = np.int))"
   ]
  },
  {
   "cell_type": "code",
   "execution_count": 17,
   "metadata": {},
   "outputs": [
    {
     "name": "stdout",
     "output_type": "stream",
     "text": [
      "[1 2 3 4 5 6 7 8 9]\n",
      "[[1 2 3 0 0 0]\n",
      " [0 0 0 7 8 9]]\n",
      "[[1 2 3]\n",
      " [0 0 0]\n",
      " [0 0 0]\n",
      " [7 8 9]]\n"
     ]
    }
   ],
   "source": [
    "# Concatenate\n",
    "## Two or more arrays can be concatenated together using the concatenate function with a tuple of arrays to be joined\n",
    "array_1 = np.array([1, 2, 3])\n",
    "array_2 = np.array([4, 5, 6])\n",
    "array_3 = np.array([7, 8, 9])\n",
    "print(np.concatenate((array_1, array_2, array_3)))\n",
    "## For more than one dimension array, specify the axis along which multiple arrays are concatenated \n",
    "### axis = 1: By column, next to each other\n",
    "### axis = 0: By row, on top of each other \n",
    "array_1 = np.array([[1, 2, 3], [0, 0, 0]])\n",
    "array_2 = np.array([[0, 0, 0], [7, 8, 9]])\n",
    "print(np.concatenate((array_1, array_2), axis = 1))\n",
    "print(np.concatenate((array_1, array_2), axis = 0))   \n"
   ]
  },
  {
   "cell_type": "code",
   "execution_count": 19,
   "metadata": {},
   "outputs": [
    {
     "name": "stdout",
     "output_type": "stream",
     "text": [
      "4 3 2\n",
      "1 2\n",
      "1 2\n",
      "1 2\n",
      "1 2\n",
      "3 4\n",
      "3 4\n",
      "3 4\n",
      "[[1 2]\n",
      " [1 2]\n",
      " [1 2]\n",
      " [1 2]\n",
      " [3 4]\n",
      " [3 4]\n",
      " [3 4]]\n"
     ]
    }
   ],
   "source": [
    "# Given two integer arrays of size N*P and M*P, concatenate the arrays along axis 0\n",
    "## The first line contains space separated integers, N, M, and P.\n",
    "## The next N lines contain the space separated elements of the P columns.\n",
    "## The next M lines contain the space separated elements of the P columns.\n",
    "n, m, p = map(int, input().split())\n",
    "array_1 = np.array([input().split() for i in range(n)], dtype = np.int)\n",
    "array_2 = np.array([input().split() for i in range(m)], dtype = np.int)\n",
    "print(np.concatenate((array_1, array_2), axis = 0))"
   ]
  },
  {
   "cell_type": "code",
   "execution_count": 25,
   "metadata": {},
   "outputs": [
    {
     "name": "stdout",
     "output_type": "stream",
     "text": [
      "[[1 4]\n",
      " [2 5]\n",
      " [3 6]]\n",
      "[1 2 3 4 5 6]\n"
     ]
    }
   ],
   "source": [
    "# Transpose & Flatten\n",
    "## Transpose\n",
    "my_array = np.array([[1, 2, 3], [4, 5, 6]])\n",
    "print(my_array.transpose())\n",
    "## Flatten\n",
    "my_array = np.array([[1, 2, 3], [4, 5, 6]])\n",
    "print(my_array.flatten())"
   ]
  },
  {
   "cell_type": "code",
   "execution_count": 26,
   "metadata": {},
   "outputs": [
    {
     "name": "stdout",
     "output_type": "stream",
     "text": [
      "2 2\n",
      "1 2\n",
      "3 4\n",
      "[[1 3]\n",
      " [2 4]]\n",
      "[1 2 3 4]\n"
     ]
    }
   ],
   "source": [
    "# Given a N*M integer array matrix with space separated elements, print the transpose and flatten results\n",
    "n, m = map(int, input().split())\n",
    "arr = np.array([input().split() for i in range(n)], dtype = np.int)\n",
    "print(arr.transpose())\n",
    "print(arr.flatten())"
   ]
  },
  {
   "cell_type": "code",
   "execution_count": 5,
   "metadata": {},
   "outputs": [
    {
     "name": "stdout",
     "output_type": "stream",
     "text": [
      "[1 0]\n",
      "[2 3 1 0]\n",
      "0\n"
     ]
    }
   ],
   "source": [
    "# Min & Max\n",
    "## Min / Max: Returns the minimum / maximum value along a given axis \n",
    "## 0: Across all rows; 1: Across all columns; Default: All elements\n",
    "my_array = np.array([[2, 5], [3, 7], [1, 3], [4, 0]])\n",
    "print(np.min(my_array, axis = 0))       \n",
    "print(np.min(my_array, axis = 1))       \n",
    "print(np.min(my_array))"
   ]
  },
  {
   "cell_type": "code",
   "execution_count": 9,
   "metadata": {},
   "outputs": [
    {
     "name": "stdout",
     "output_type": "stream",
     "text": [
      "4 2\n",
      "2 5\n",
      "3 7\n",
      "1 3\n",
      "4 0\n",
      "3\n"
     ]
    }
   ],
   "source": [
    "# Given a 2-D array with dimensions N*M, perform the min function over axis 1 and then find the max value\n",
    "n, m = map(int, input().split())\n",
    "arr = np.array([input().split() for i in range(n)], dtype = np.int)\n",
    "print(np.max(np.min(arr, axis = 1)))"
   ]
  },
  {
   "cell_type": "code",
   "execution_count": 10,
   "metadata": {},
   "outputs": [
    {
     "name": "stdout",
     "output_type": "stream",
     "text": [
      "[3 8]\n",
      "[ 2 12]\n",
      "24\n"
     ]
    }
   ],
   "source": [
    "# Sum & Product\n",
    "## Sum / Product: Returns the sum / product of array elements over a given axis\n",
    "## 0: Across all rows; 1: Across all columns; Default: All elements\n",
    "my_array = np.array([ [1, 2], [3, 4] ])\n",
    "print(np.prod(my_array, axis = 0))           \n",
    "print(np.prod(my_array, axis = 1))       \n",
    "print(np.prod(my_array))"
   ]
  },
  {
   "cell_type": "code",
   "execution_count": 11,
   "metadata": {},
   "outputs": [
    {
     "name": "stdout",
     "output_type": "stream",
     "text": [
      "2 2\n",
      "1 2\n",
      "3 4\n",
      "24\n"
     ]
    }
   ],
   "source": [
    "# Given a 2-D array with dimensions N*M, perform the sum over axis 0 and find its product\n",
    "n, m = map(int, input().split())\n",
    "arr = np.array([input().split() for i in range(n)], dtype = np.int)\n",
    "print(np.prod(np.sum(arr, axis = 0)))"
   ]
  },
  {
   "cell_type": "code",
   "execution_count": 13,
   "metadata": {},
   "outputs": [
    {
     "name": "stdout",
     "output_type": "stream",
     "text": [
      "2 2\n",
      "1 2\n",
      "3 4\n",
      "[1.5 3.5]\n",
      "[1. 1.]\n",
      "1.118033988749895\n"
     ]
    }
   ],
   "source": [
    "# Mean & Variance\n",
    "## Computes the arithmetic mean along the specified axis\n",
    "## Computes the arithmetic variance along the specified axis\n",
    "## Computes the arithmetic standard deviation along the specified axis\n",
    "\n",
    "# Given a 2-D array with dimensions N*M, find the following values\n",
    "## The mean along axis 1\n",
    "## The var along axis 0\n",
    "## The std along axis None\n",
    "n, m = map(int, input().split())\n",
    "arr = np.array([input().split() for i in range(n)], dtype = np.int)\n",
    "print(np.mean(arr, axis = 1))\n",
    "print(np.var(arr, axis = 0))\n",
    "print(np.std(arr))"
   ]
  },
  {
   "cell_type": "code",
   "execution_count": 4,
   "metadata": {},
   "outputs": [
    {
     "name": "stdout",
     "output_type": "stream",
     "text": [
      "[[1. 0. 0.]\n",
      " [0. 1. 0.]\n",
      " [0. 0. 1.]]\n",
      "[[0. 1. 0.]\n",
      " [0. 0. 1.]\n",
      " [0. 0. 0.]]\n",
      "3 3\n",
      "[[1. 0. 0.]\n",
      " [0. 1. 0.]\n",
      " [0. 0. 1.]]\n"
     ]
    }
   ],
   "source": [
    "# Identity\n",
    "## Returns a square matrix with all the main diagonal elements as 1 and the rest as 0\n",
    "## The default data type is float.\n",
    "print(np.identity(3))\n",
    "\n",
    "# Eye \n",
    "## Returns a 2-D array with 1s on the diagonal and 0s elsewhere\n",
    "## N: The number of rows\n",
    "## M: The number of columns\n",
    "## k: Index of the diagonal: 0 refers to the main diagonal, a positive value refers to an upper diagonal, and a negative value to a lower diagonal\n",
    "print(np.eye(3, k = 1))\n",
    "\n",
    "# Print an array of size N*M with its main diagonal elements as 1s and 0s everywhere else\n",
    "n, m = map(int, input().split())\n",
    "print(np.eye(n, m, k = 0))"
   ]
  },
  {
   "cell_type": "code",
   "execution_count": 8,
   "metadata": {},
   "outputs": [
    {
     "name": "stdout",
     "output_type": "stream",
     "text": [
      "2\n",
      "1 2\n",
      "3 4\n",
      "1 2\n",
      "3 4\n",
      "[[ 7 10]\n",
      " [15 22]]\n"
     ]
    }
   ],
   "source": [
    "# Dot product: np.dot(a, b)\n",
    "# Cross product: np.cross(a, b)\n",
    "\n",
    "# Given two arrays (Both have dimensions of N*N), compute their matrix product\n",
    "n = int(input())\n",
    "a = np.array([input().split() for i in range(n)], dtype = int)\n",
    "b = np.array([input().split() for i in range(n)], dtype = int)\n",
    "print(np.dot(a, b))"
   ]
  },
  {
   "cell_type": "code",
   "execution_count": 9,
   "metadata": {},
   "outputs": [
    {
     "name": "stdout",
     "output_type": "stream",
     "text": [
      "0 1\n",
      "2 3\n",
      "3\n",
      "[[0 0]\n",
      " [2 3]]\n"
     ]
    }
   ],
   "source": [
    "# Inner product (Generalization of the dot product): np.inner()\n",
    "## In a vector space, it is a way to multiply vectors together.\n",
    "## The result of the multiplication is a scalar.\n",
    "\n",
    "# Outer product: np.outer()\n",
    "## Given two vectors, u = (u1, u2, ..., um) and v = (v1, v2, ..., vn), \n",
    "## The outer product is defined by multiplying each element of u by each element of v (m*n matrix)\n",
    "\n",
    "# Given two arrays A and B, compute their inner and outer product\n",
    "a = np.array(input().split(), dtype = int)\n",
    "b = np.array(input().split(), dtype = int)\n",
    "print(np.inner(a, b))\n",
    "print(np.outer(a, b))\n"
   ]
  },
  {
   "cell_type": "code",
   "execution_count": 11,
   "metadata": {},
   "outputs": [
    {
     "name": "stdout",
     "output_type": "stream",
     "text": [
      "1.1 2.2 3.3 4.4 5.5 6.6 7.7 8.8 9.9\n",
      "[1. 2. 3. 4. 5. 6. 7. 8. 9.]\n",
      "[ 2.  3.  4.  5.  6.  7.  8.  9. 10.]\n",
      "[ 1.  2.  3.  4.  6.  7.  8.  9. 10.]\n"
     ]
    }
   ],
   "source": [
    "# Floor: The floor of x is the largest integer i where i <= x.\n",
    "# Ceil: The ceiling of x is the smallest integer i where i >= x.\n",
    "# Rint: Rounds to the nearest integer of input element-wise\n",
    "\n",
    "# Given a 1-D array, print the floor, ceil and rint of all the elements of array\n",
    "a = np.array(input().split(), dtype = float)\n",
    "print(np.floor(a))\n",
    "print(np.ceil(a))\n",
    "print(np.rint(a))"
   ]
  }
 ],
 "metadata": {
  "kernelspec": {
   "display_name": "Python 3",
   "language": "python",
   "name": "python3"
  },
  "language_info": {
   "codemirror_mode": {
    "name": "ipython",
    "version": 3
   },
   "file_extension": ".py",
   "mimetype": "text/x-python",
   "name": "python",
   "nbconvert_exporter": "python",
   "pygments_lexer": "ipython3",
   "version": "3.8.1"
  }
 },
 "nbformat": 4,
 "nbformat_minor": 2
}
