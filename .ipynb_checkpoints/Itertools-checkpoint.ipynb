{
 "cells": [
  {
   "cell_type": "code",
   "execution_count": 14,
   "metadata": {},
   "outputs": [
    {
     "name": "stdout",
     "output_type": "stream",
     "text": [
      "[(1, 3), (1, 4), (2, 3), (2, 4), (3, 3), (3, 4)]\n",
      "[(1, 1), (1, 2), (1, 3), (2, 1), (2, 2), (2, 3), (3, 1), (3, 2), (3, 3)]\n"
     ]
    }
   ],
   "source": [
    "# Cartesian product \n",
    "\n",
    "## Concept: Cartesian product of two sets A and B, denoted A × B, is the set of all ordered pairs (a, b) where a is in A and b is in B.\n",
    "\n",
    "## Implementation: itertools.product(*iterables[, repeat])\n",
    "### Computes the cartesian product of input iterables\n",
    "### Equivalent to nested for-loops\n",
    "### Examples: \n",
    "from itertools import product\n",
    "print(list(product([1, 2, 3], [3, 4])))            # product(A, B) = ((x,y) for x in A for y in B)\n",
    "print(list(product([1, 2, 3], repeat = 2)))        # product(A, repeat = 4) = product(A, A, A, A)"
   ]
  },
  {
   "cell_type": "code",
   "execution_count": 5,
   "metadata": {},
   "outputs": [
    {
     "name": "stdout",
     "output_type": "stream",
     "text": [
      "1 2\n",
      "3 4\n",
      "(1, 3) (1, 4) (2, 3) (2, 4)\n"
     ]
    }
   ],
   "source": [
    "# Given two lists A and B, compute their cartesian product A x B\n",
    "# Output the space separated tuples of the cartesian product\n",
    "a = map(int, input().split())\n",
    "b = map(int, input().split())\n",
    "print(*list(product(a, b)))\n"
   ]
  },
  {
   "cell_type": "code",
   "execution_count": 8,
   "metadata": {},
   "outputs": [
    {
     "name": "stdout",
     "output_type": "stream",
     "text": [
      "[('1', '2', '3'), ('1', '3', '2'), ('2', '1', '3'), ('2', '3', '1'), ('3', '1', '2'), ('3', '2', '1')]\n",
      "[('1', '2'), ('1', '3'), ('2', '1'), ('2', '3'), ('3', '1'), ('3', '2')]\n"
     ]
    }
   ],
   "source": [
    "# Permutations\n",
    "\n",
    "## Concept: Permutation of a set is an arrangement of its members into a sequence or linear order.\n",
    "\n",
    "## Implementation: itertools.permutations(iterable[, r])\n",
    "### Returns successive r length permutations of elements in the iterable\n",
    "### The r value defaults to the length of the iterable, and all possible full-length permutations are generated.\n",
    "### The number of items returned is n! / (n-r)! when 0 <= r <= n, or 0 when r > n. \n",
    "### Examples: \n",
    "from itertools import permutations\n",
    "print(list(permutations(['1', '2', '3'])))\n",
    "print(list(permutations(['1','2','3'], r = 2)))"
   ]
  },
  {
   "cell_type": "code",
   "execution_count": 13,
   "metadata": {},
   "outputs": [
    {
     "name": "stdout",
     "output_type": "stream",
     "text": [
      "HACK 2\n",
      "AC\n",
      "AH\n",
      "AK\n",
      "CA\n",
      "CH\n",
      "CK\n",
      "HA\n",
      "HC\n",
      "HK\n",
      "KA\n",
      "KC\n",
      "KH\n"
     ]
    }
   ],
   "source": [
    "# Given a string s, print all possible permutations of size k of the string in lexicographic sorted order\n",
    "# Output the permutations of the string s on separate lines\n",
    "s, k = input().split()\n",
    "for p in sorted(list(permutations(s, int(k)))):\n",
    "    print(*p, sep = '')"
   ]
  },
  {
   "cell_type": "code",
   "execution_count": 24,
   "metadata": {},
   "outputs": [
    {
     "name": "stdout",
     "output_type": "stream",
     "text": [
      "[('1', '2'), ('1', '3'), ('1', '4'), ('1', '5'), ('2', '3'), ('2', '4'), ('2', '5'), ('3', '4'), ('3', '5'), ('4', '5')]\n",
      "[('1', '1'), ('1', '2'), ('1', '3'), ('1', '4'), ('1', '5'), ('2', '2'), ('2', '3'), ('2', '4'), ('2', '5'), ('3', '3'), ('3', '4'), ('3', '5'), ('4', '4'), ('4', '5'), ('5', '5')]\n"
     ]
    }
   ],
   "source": [
    "# Combinations\n",
    "\n",
    "## Concept: Permutations differ from combinations, which are selections of some members of a set regardless of order.\n",
    "\n",
    "## Implementation: itertools.combinations(iterable, r)\n",
    "### Returns r length subsequences of elements from the input iterable\n",
    "### The number of items returned is n! / (r! * (n-r)!) when 0 <= r <= n, or 0 when r > n.\n",
    "### Combinations are emitted in \"lexicographic sorted\" order; So, if the input iterable is sorted, the combination tuples will be produced in sorted order.\n",
    "### Example:\n",
    "from itertools import combinations\n",
    "print(list(combinations('12345', 2)))\n",
    "\n",
    "## Implementation: itertools.combinations_with_replacement(iterable, r)\n",
    "### Returns r length subsequences of elements from the input iterable, allowing individual elements to be repeated more than once\n",
    "### The number of items returned is (n+r-1)! / (r! * (n-1)!) when n > 0.\n",
    "### Example:\n",
    "from itertools import combinations_with_replacement\n",
    "print(list(combinations_with_replacement('12345', 2)))"
   ]
  },
  {
   "cell_type": "code",
   "execution_count": 21,
   "metadata": {},
   "outputs": [
    {
     "name": "stdout",
     "output_type": "stream",
     "text": [
      "HACK 2\n",
      "A\n",
      "C\n",
      "H\n",
      "K\n",
      "AC\n",
      "AH\n",
      "AK\n",
      "CH\n",
      "CK\n",
      "HK\n"
     ]
    }
   ],
   "source": [
    "# Given a string s, print all possible combinations, up to size k, of the string in lexicographic sorted order\n",
    "# Output the different combinations of string s on separate lines\n",
    "s, k = input().split()\n",
    "for i in range(1, int(k) + 1):\n",
    "    for c in list(combinations(sorted(s), i)):\n",
    "        print(*c, sep = '')"
   ]
  },
  {
   "cell_type": "code",
   "execution_count": 25,
   "metadata": {},
   "outputs": [
    {
     "name": "stdout",
     "output_type": "stream",
     "text": [
      "HACK 2\n",
      "AA\n",
      "AC\n",
      "AH\n",
      "AK\n",
      "CC\n",
      "CH\n",
      "CK\n",
      "HH\n",
      "HK\n",
      "KK\n"
     ]
    }
   ],
   "source": [
    "# Given a string s, print all possible size k replacement combinations of the string in lexicographic sorted order\n",
    "# Output the combinations with their replacements of string s on separate lines\n",
    "s, k = input().split()\n",
    "for c in list(combinations_with_replacement(sorted(s), int(k))):\n",
    "    print(*c, sep = '')"
   ]
  },
  {
   "cell_type": "code",
   "execution_count": 32,
   "metadata": {},
   "outputs": [
    {
     "name": "stdout",
     "output_type": "stream",
     "text": [
      "<itertools.groupby object at 0x7fa3dee8de08>\n",
      "[('a', <itertools._grouper object at 0x7fa3dee445c0>), ('b', <itertools._grouper object at 0x7fa3dee44668>), ('c', <itertools._grouper object at 0x7fa3deec2898>)]\n",
      "a: [('a', 1), ('a', 2)]\n",
      "b: [('b', 3), ('b', 4)]\n",
      "c: [('c', 5)]\n"
     ]
    }
   ],
   "source": [
    "# Compression: itertools.groupby(iterable[, key])\n",
    "## Makes an iterator that returns consecutive keys and groups from the iterable\n",
    "## Calculates the keys for each element present in iterable; Returns key and iterable of grouped items\n",
    "## Note: \n",
    "## The key is a function computing a key value for each element; If not specified, key returns the element unchanged. \n",
    "## Generally, the iterable needs to already be sorted on the same key function.\n",
    "## Example\n",
    "from itertools import groupby\n",
    "data = [(\"a\", 1), (\"a\", 2), (\"b\", 3), (\"b\", 4), (\"c\", 5)] \n",
    "key_func = lambda x: x[0] \n",
    "print(groupby(data, key_func))          # <iterator>\n",
    "print(list(groupby(data, key_func)))    # [(key, <iterator: grouped elements>)]\n",
    "for key, group in groupby(data, key_func): \n",
    "    print(f'{key}: {list(group)}')"
   ]
  },
  {
   "cell_type": "code",
   "execution_count": 44,
   "metadata": {},
   "outputs": [
    {
     "name": "stdout",
     "output_type": "stream",
     "text": [
      "1222311\n",
      "1: [1]\n",
      "2: [2, 2, 2]\n",
      "3: [3]\n",
      "1: [1, 1]\n",
      "(1, 1) (3, 2) (1, 3) (2, 1)\n"
     ]
    }
   ],
   "source": [
    "# Given a string s, suppose a character 'c' occurs consecutively x times in the string\n",
    "## Replace it with (x, c) in the string\n",
    "## Example\n",
    "### Input: 1222311\n",
    "### Output: (1, 1) (3, 2) (1, 3) (2, 1)\n",
    "from itertools import groupby\n",
    "s = list(map(int, input()))\n",
    "for key, group in groupby(s):           # Returns the element unchanged\n",
    "    print(f'{key}: {list(group)}')      # Generates a break or new group every time the key value changes\n",
    "\n",
    "output_list = []\n",
    "for key, group in groupby(s):\n",
    "    output_list.append((len(list(group)), key))\n",
    "print(*output_list)"
   ]
  },
  {
   "cell_type": "code",
   "execution_count": 10,
   "metadata": {},
   "outputs": [
    {
     "name": "stdout",
     "output_type": "stream",
     "text": [
      "4\n",
      "a a c d\n",
      "2\n",
      "0.8333333333333334\n"
     ]
    }
   ],
   "source": [
    "# Given a list of n lowercase letters:\n",
    "## For a given integer k, you can select any k indices with a uniform probability from the list.\n",
    "## Find the probability that at least one of the k indices selected will contain the letter 'a'\n",
    "n = int(input())\n",
    "s = input().split()\n",
    "k = int(input())\n",
    "numerator = len((list(combinations([i for i in s if i != 'a'], k))))\n",
    "denominator = (len(list(combinations(s, k))))\n",
    "p = 1 - (numerator / denominator)\n",
    "print(p)"
   ]
  },
  {
   "cell_type": "code",
   "execution_count": 40,
   "metadata": {},
   "outputs": [
    {
     "name": "stdout",
     "output_type": "stream",
     "text": [
      "3 1000\n",
      "2 5 4\n",
      "3 7 8 9\n",
      "5 5 7 8 9 10\n",
      "206\n"
     ]
    }
   ],
   "source": [
    "# Given k lists, with each list consisting of n elements\n",
    "## Pick one element from each list so that the value from the equation below is maximized:\n",
    "## S = (X1 ^ 2 + X2 ^ 2 + ... + Xk ^ 2) % M\n",
    "k, m = map(int, input().split())\n",
    "k_lists = [list(map(int, input().split()[1:])) for i in range(k)]\n",
    "\n",
    "x_combo = list(product(*k_lists))\n",
    "\n",
    "ss = []\n",
    "for x in x_combo:\n",
    "    output = []\n",
    "    for xi in x:\n",
    "        output.append(xi ** 2)\n",
    "    ss.append(sum(output))\n",
    "\n",
    "r = []\n",
    "for value in ss:\n",
    "    r.append(value % m)\n",
    "print(max(r))"
   ]
  },
  {
   "cell_type": "code",
   "execution_count": 42,
   "metadata": {},
   "outputs": [
    {
     "name": "stdout",
     "output_type": "stream",
     "text": [
      "3 1000\n",
      "2 5 4\n",
      "3 7 8 9\n",
      "5 5 7 8 9 10\n",
      "206\n"
     ]
    }
   ],
   "source": [
    "# Elegant solution\n",
    "## For each product tuple: The map function: [(), (), ()]\n",
    "## For each value of the product tuple: The list comprehension: [..., ..., ...]\n",
    "k, m = map(int, input().split())\n",
    "k_lists = [list(map(int, input().split()[1:])) for i in range(k)]\n",
    "\n",
    "x_combo = list(product(*k_lists))\n",
    "\n",
    "results = map(lambda x: sum([xi ** 2 for xi in x]) % m, x_combo)\n",
    "print(max(list(results)))"
   ]
  }
 ],
 "metadata": {
  "kernelspec": {
   "display_name": "Python 3",
   "language": "python",
   "name": "python3"
  },
  "language_info": {
   "codemirror_mode": {
    "name": "ipython",
    "version": 3
   },
   "file_extension": ".py",
   "mimetype": "text/x-python",
   "name": "python",
   "nbconvert_exporter": "python",
   "pygments_lexer": "ipython3",
   "version": "3.8.1"
  }
 },
 "nbformat": 4,
 "nbformat_minor": 2
}
