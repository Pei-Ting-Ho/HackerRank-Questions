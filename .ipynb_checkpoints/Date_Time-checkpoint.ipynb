{
 "cells": [
  {
   "cell_type": "code",
   "execution_count": null,
   "metadata": {},
   "outputs": [],
   "source": [
    "# The module allows you to output calendars and provides additional useful functions for them\n",
    "# https://docs.python.org/2/library/calendar.html#calendar.TextCalendar"
   ]
  },
  {
   "cell_type": "code",
   "execution_count": 6,
   "metadata": {
    "scrolled": true
   },
   "outputs": [
    {
     "name": "stdout",
     "output_type": "stream",
     "text": [
      "    October 2020\n",
      "Mo Tu We Th Fr Sa Su\n",
      "          1  2  3  4\n",
      " 5  6  7  8  9 10 11\n",
      "12 13 14 15 16 17 18\n",
      "19 20 21 22 23 24 25\n",
      "26 27 28 29 30 31\n",
      "\n",
      "                                  2020\n",
      "\n",
      "      January                   February                   March\n",
      "Mo Tu We Th Fr Sa Su      Mo Tu We Th Fr Sa Su      Mo Tu We Th Fr Sa Su\n",
      "       1  2  3  4  5                      1  2                         1\n",
      " 6  7  8  9 10 11 12       3  4  5  6  7  8  9       2  3  4  5  6  7  8\n",
      "13 14 15 16 17 18 19      10 11 12 13 14 15 16       9 10 11 12 13 14 15\n",
      "20 21 22 23 24 25 26      17 18 19 20 21 22 23      16 17 18 19 20 21 22\n",
      "27 28 29 30 31            24 25 26 27 28 29         23 24 25 26 27 28 29\n",
      "                                                    30 31\n",
      "\n",
      "       April                      May                       June\n",
      "Mo Tu We Th Fr Sa Su      Mo Tu We Th Fr Sa Su      Mo Tu We Th Fr Sa Su\n",
      "       1  2  3  4  5                   1  2  3       1  2  3  4  5  6  7\n",
      " 6  7  8  9 10 11 12       4  5  6  7  8  9 10       8  9 10 11 12 13 14\n",
      "13 14 15 16 17 18 19      11 12 13 14 15 16 17      15 16 17 18 19 20 21\n",
      "20 21 22 23 24 25 26      18 19 20 21 22 23 24      22 23 24 25 26 27 28\n",
      "27 28 29 30               25 26 27 28 29 30 31      29 30\n",
      "\n",
      "        July                     August                  September\n",
      "Mo Tu We Th Fr Sa Su      Mo Tu We Th Fr Sa Su      Mo Tu We Th Fr Sa Su\n",
      "       1  2  3  4  5                      1  2          1  2  3  4  5  6\n",
      " 6  7  8  9 10 11 12       3  4  5  6  7  8  9       7  8  9 10 11 12 13\n",
      "13 14 15 16 17 18 19      10 11 12 13 14 15 16      14 15 16 17 18 19 20\n",
      "20 21 22 23 24 25 26      17 18 19 20 21 22 23      21 22 23 24 25 26 27\n",
      "27 28 29 30 31            24 25 26 27 28 29 30      28 29 30\n",
      "                          31\n",
      "\n",
      "      October                   November                  December\n",
      "Mo Tu We Th Fr Sa Su      Mo Tu We Th Fr Sa Su      Mo Tu We Th Fr Sa Su\n",
      "          1  2  3  4                         1          1  2  3  4  5  6\n",
      " 5  6  7  8  9 10 11       2  3  4  5  6  7  8       7  8  9 10 11 12 13\n",
      "12 13 14 15 16 17 18       9 10 11 12 13 14 15      14 15 16 17 18 19 20\n",
      "19 20 21 22 23 24 25      16 17 18 19 20 21 22      21 22 23 24 25 26 27\n",
      "26 27 28 29 30 31         23 24 25 26 27 28 29      28 29 30 31\n",
      "                          30\n",
      "\n",
      "1\n"
     ]
    }
   ],
   "source": [
    "# calendar.TextCalendar([firstweekday]): Generates plain text calendars\n",
    "## formatmonth(theyear, themonth): Returns a month's calendar in a multi-line string\n",
    "## formatyear(theyear): Returns a m-column calendar for an entire year as a multi-line string\n",
    "import calendar\n",
    "print(calendar.TextCalendar(0).formatmonth(2020, 10))\n",
    "print(calendar.TextCalendar(0).formatyear(2020))\n",
    "\n",
    "# calendar.setfirstweekday(weekday): Sets the weekday (0 is Monday, 6 is Sunday) to start each week\n",
    "\n",
    "# calendar.firstweekday(): Returns the current setting for the weekday to start each week\n",
    "\n",
    "# calendar.weekday(year, month, day): Returns the day of the week (0 is Monday) for year (1970–...), month (1–12), day (1–31)\n",
    "print(calendar.weekday(2020, 11, 10))"
   ]
  },
  {
   "cell_type": "code",
   "execution_count": 10,
   "metadata": {},
   "outputs": [
    {
     "name": "stdout",
     "output_type": "stream",
     "text": [
      "['Monday', 'Tuesday', 'Wednesday', 'Thursday', 'Friday', 'Saturday', 'Sunday']\n",
      "['Mon', 'Tue', 'Wed', 'Thu', 'Fri', 'Sat', 'Sun']\n",
      "['', 'January', 'February', 'March', 'April', 'May', 'June', 'July', 'August', 'September', 'October', 'November', 'December']\n",
      "['', 'Jan', 'Feb', 'Mar', 'Apr', 'May', 'Jun', 'Jul', 'Aug', 'Sep', 'Oct', 'Nov', 'Dec']\n"
     ]
    }
   ],
   "source": [
    "# calendar.day_name: An array that represents the days of the week in the current locale.\n",
    "print(list(calendar.day_name))\n",
    "\n",
    "# calendar.day_abbr: An array that represents the abbreviated days of the week in the current locale.\n",
    "print(list(calendar.day_abbr))\n",
    "\n",
    "# calendar.month_name: \n",
    "## An array that represents the months of the year in the current locale. \n",
    "## This follows normal convention of January being month number 1, so it has a length of 13 and month_name[0] is the empty string.\n",
    "print(list(calendar.month_name))\n",
    "\n",
    "# calendar.month_abbr: \n",
    "## An array that represents the abbreviated months of the year in the current locale. \n",
    "## This follows normal convention of January being month number 1, so it has a length of 13 and month_abbr[0] is the empty string.\n",
    "print(list(calendar.month_abbr))"
   ]
  },
  {
   "cell_type": "code",
   "execution_count": 13,
   "metadata": {},
   "outputs": [
    {
     "name": "stdout",
     "output_type": "stream",
     "text": [
      "08 05 2015\n",
      "WEDNESDAY\n"
     ]
    }
   ],
   "source": [
    "# Given a date (MM DD YYYY), find what the day is \n",
    "month, day, year = map(int, input().split())\n",
    "print(list(calendar.day_name)[calendar.weekday(year, month, day)].upper())"
   ]
  },
  {
   "cell_type": "code",
   "execution_count": 14,
   "metadata": {},
   "outputs": [
    {
     "name": "stdout",
     "output_type": "stream",
     "text": [
      "2\n",
      "Sun 10 May 2015 13:54:36 -0700\n",
      "Sun 10 May 2015 13:54:36 -0000\n",
      "25200\n",
      "Sat 02 May 2015 19:54:36 +0530\n",
      "Fri 01 May 2015 13:54:36 -0000\n",
      "88200\n"
     ]
    }
   ],
   "source": [
    "# Given two timestamps (Day dd Mon yyyy hh:mm:ss +xxxx), print the absolute difference (in seconds) between them\n",
    "## The first line contains t, the number of test cases.\n",
    "## Each test case contains 2 lines, representing time 1 and time 2.\n",
    "\n",
    "# Formatting directives: https://docs.python.org/2/library/datetime.html#strftime-strptime-behavior\n",
    "## %a: Weekday as locale's abbreviated name\n",
    "## %d: Day of the month as a zero-padded decimal number\n",
    "## %b: Month as locale's abbreviated name\n",
    "## %Y: Year with century as a decimal number\n",
    "## %H / %M / %S: Hour / Minute / Second (24-hour clock) as a zero-padded decimal number\n",
    "## %z: UTC offset in the form +HHMM or -HHMM\n",
    "\n",
    "# Methods\n",
    "## date.strptime(): Returns a string representing the date, controlled by an explicit format string\n",
    "## timedelta.total_seconds(): Returns the total number of seconds contained in the duration\n",
    "\n",
    "from datetime import datetime\n",
    "\n",
    "def delta(d1, d2):\n",
    "    f = '%a %d %b %Y %H:%M:%S %z'\n",
    "    d1 = datetime.strptime(d1, f) \n",
    "    d2 = datetime.strptime(d2, f) \n",
    "    diff = (d2 - d1).total_seconds()  \n",
    "    return abs(int(diff))\n",
    "\n",
    "for i in range(int(input())):\n",
    "    print(delta(input(), input()))"
   ]
  }
 ],
 "metadata": {
  "kernelspec": {
   "display_name": "Python 3",
   "language": "python",
   "name": "python3"
  },
  "language_info": {
   "codemirror_mode": {
    "name": "ipython",
    "version": 3
   },
   "file_extension": ".py",
   "mimetype": "text/x-python",
   "name": "python",
   "nbconvert_exporter": "python",
   "pygments_lexer": "ipython3",
   "version": "3.7.3"
  }
 },
 "nbformat": 4,
 "nbformat_minor": 2
}
