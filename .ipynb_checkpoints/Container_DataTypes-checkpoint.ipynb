{
 "cells": [
  {
   "cell_type": "code",
   "execution_count": null,
   "metadata": {},
   "outputs": [],
   "source": [
    "# The module implements specialized container datatypes providing alternatives to Python's general purpose built-in containers:\n",
    "# https://docs.python.org/3/library/collections.html\n",
    "\n",
    "# Dictionary: \n",
    "  ## Counter: The dict subclass for counting hashable objects\n",
    "  ## OrderedDict: The dict subclass that remembers the order entries were added\n",
    "  ## DefaultDict: The dict subclass that calls a factory function to supply missing values\n",
    "# Tuple: The factory function for creating tuple subclasses with named fields\n",
    "# List: The list-like container with fast appends and pops on either end\n",
    "# Set"
   ]
  },
  {
   "cell_type": "code",
   "execution_count": 10,
   "metadata": {},
   "outputs": [
    {
     "name": "stdout",
     "output_type": "stream",
     "text": [
      "Counter({2: 4, 3: 4, 1: 3, 4: 2, 5: 1})\n",
      "dict_items([(1, 3), (2, 4), (3, 4), (4, 2), (5, 1)])\n",
      "dict_keys([1, 2, 3, 4, 5])\n",
      "dict_values([3, 4, 4, 2, 1])\n",
      "['a', 'a', 'a', 'a', 'b', 'b']\n",
      "[('a', 4), ('b', 2), ('c', 0)]\n",
      "Counter({'a': 3, 'b': 0, 'c': -3, 'd': -6})\n"
     ]
    }
   ],
   "source": [
    "# Counter: collections.Counter([iterable-or-mapping])\n",
    "## Stores elements as dictionary keys, and their counts are stored as dictionary values\n",
    "## Has a dictionary interface except that it returns a zero count for missing items instead of raising a KeyError\n",
    "\n",
    "# Example\n",
    "from collections import Counter\n",
    "test_list = [1, 1, 2, 3, 4, 5, 3, 2, 3, 4, 2, 1, 2, 3]\n",
    "print(Counter(test_list))           \n",
    "print(Counter(test_list).items())\n",
    "print(Counter(test_list).keys())\n",
    "print(Counter(test_list).values())\n",
    "\n",
    "print(Counter({'red': 4, 'blue': 2}))          # a new counter from a mapping\n",
    "print(Counter(cats = 4, dogs = 8))             # a new counter from keyword args\n",
    "\n",
    "# Methods\n",
    "## elements(): Returns an 'iterator' over elements repeating each as many times as its count (<1 => Ignore)\n",
    "c = Counter(a = 4, b = 2, c = 0, d = -2)\n",
    "print(list(c.elements()))\n",
    "## most_common([n]): Returns a list of the n most common elements and their counts from the most common to the least\n",
    "print(c.most_common(3))\n",
    "## subtract([iterable-or-mapping]): Elements are subtracted from an iterable or from another mapping \n",
    "c = Counter(a = 4, b = 2, c = 0, d = -2)\n",
    "d = Counter(a = 1, b = 2, c = 3, d = 4)\n",
    "c.subtract(d)\n",
    "print(c)"
   ]
  },
  {
   "cell_type": "code",
   "execution_count": 10,
   "metadata": {},
   "outputs": [
    {
     "name": "stdout",
     "output_type": "stream",
     "text": [
      "10\n",
      "2 3 4 5 6 8 7 6 5 18\n",
      "6\n",
      "6 55\n",
      "6 45\n",
      "6 55\n",
      "4 40\n",
      "18 60\n",
      "10 50\n",
      "200\n"
     ]
    }
   ],
   "source": [
    "# The shop has x number of shoes.\n",
    "# The shop owner has a list containing the size of each shoe he has in the shop.\n",
    "# There are n number of customers who are willing to pay xi only if they get the shoe of their desired size.\n",
    "# Compute the money earned\n",
    "\n",
    "# The first line contains x, the number of shoes.\n",
    "# The second line contains the space separated list of all the shoe sizes in the shop.\n",
    "# The third line contains n, the number of customers.\n",
    "# The next n lines contain the space separated values of the shoe size desired by the customer and xi, the price of the shoe.\n",
    "n_shoes = int(input())\n",
    "size_shoes = map(int, input().split())\n",
    "n_customers = int(input())\n",
    "info_list = [list(map(int, input().split())) for i in range(n_customers)]\n",
    "\n",
    "inv_dict = Counter(size_shoes)\n",
    "output_list = []\n",
    "for i in info_list:\n",
    "    if i[0] in inv_dict and inv_dict[i[0]] != 0:\n",
    "        output_list.append(i[1])\n",
    "        inv_dict[i[0]] = inv_dict.get(i[0]) - 1\n",
    "    else:\n",
    "        output_list.append(0)\n",
    "print(sum(output_list))"
   ]
  },
  {
   "cell_type": "code",
   "execution_count": 11,
   "metadata": {},
   "outputs": [
    {
     "name": "stdout",
     "output_type": "stream",
     "text": [
      "{'a': 1, 'b': 2, 'c': 3, 'd': 4, 'e': 5}\n",
      "OrderedDict([('a', 1), ('b', 2), ('c', 3), ('d', 4), ('e', 5)])\n"
     ]
    }
   ],
   "source": [
    "# Ordered dictionary\n",
    "## A dictionary that remembers the order of the keys that were inserted first\n",
    "## If a new entry overwrites an existing entry, the original insertion position is left unchanged.\n",
    "\n",
    "# Example\n",
    "from collections import OrderedDict\n",
    "ordinary_dictionary = {}\n",
    "ordinary_dictionary['a'] = 1\n",
    "ordinary_dictionary['b'] = 2\n",
    "ordinary_dictionary['c'] = 3\n",
    "ordinary_dictionary['d'] = 4\n",
    "ordinary_dictionary['e'] = 5\n",
    "print(ordinary_dictionary)\n",
    "\n",
    "ordered_dictionary = OrderedDict()\n",
    "ordered_dictionary['a'] = 1\n",
    "ordered_dictionary['b'] = 2\n",
    "ordered_dictionary['c'] = 3\n",
    "ordered_dictionary['d'] = 4\n",
    "ordered_dictionary['e'] = 5\n",
    "print(ordered_dictionary)"
   ]
  },
  {
   "cell_type": "code",
   "execution_count": 18,
   "metadata": {},
   "outputs": [
    {
     "name": "stdout",
     "output_type": "stream",
     "text": [
      "9\n",
      "BANANA FRIES 12\n",
      "POTATO CHIPS 30\n",
      "APPLE JUICE 10\n",
      "CANDY 5\n",
      "APPLE JUICE 10\n",
      "CANDY 5\n",
      "CANDY 5\n",
      "CANDY 5\n",
      "POTATO CHIPS 30\n",
      "BANANA FRIES 12\n",
      "POTATO CHIPS 60\n",
      "APPLE JUICE 20\n",
      "CANDY 20\n"
     ]
    }
   ],
   "source": [
    "# You have a list of n items together with their prices that consumers bought on a particular day.\n",
    "# Your task is to print each item name and net price (price * quantity sold) in order of its first occurrence.\n",
    "## The first line contains the number of items, n.\n",
    "## The next n lines contain the item's name and price, separated by a space.\n",
    "n = int(input())\n",
    "sales_dict = OrderedDict()\n",
    "for i in range(n):\n",
    "    *item, price = input().split()\n",
    "    item = ' '.join(item)\n",
    "    sales_dict[item] = sales_dict.get(item, 0) + int(price)\n",
    "\n",
    "for k, v in sales_dict.items():\n",
    "    print(k, v)"
   ]
  },
  {
   "cell_type": "code",
   "execution_count": 41,
   "metadata": {},
   "outputs": [
    {
     "name": "stdout",
     "output_type": "stream",
     "text": [
      "defaultdict(<class 'list'>, {'yellow': [1, 3], 'blue': [2, 4], 'red': [1]})\n",
      "dict_items([('yellow', [1, 3]), ('blue', [2, 4]), ('red', [1])])\n",
      "dict_items([('yellow', [1, 3]), ('blue', [2, 4]), ('red', [1])])\n",
      "dict_items([('m', 1), ('i', 4), ('s', 4), ('p', 2)])\n"
     ]
    }
   ],
   "source": [
    "# Default dictionary\n",
    "## Similar to the usual dictionary\n",
    "## Has a default value if the key has not been set yet (Otherwise, you'd have to check to see if the key exists)\n",
    "\n",
    "# Example\n",
    "## Using 'list' as the default_factory, it is easy to group a sequence of key-value pairs into a dictionary of lists\n",
    "from collections import defaultdict\n",
    "s = [('yellow', 1), ('blue', 2), ('yellow', 3), ('blue', 4), ('red', 1)]\n",
    "d = defaultdict(list)     # An entry is automatically created \n",
    "for k, v in s:            # Using the default_factory function which returns an empty list\n",
    "    d[k].append(v)\n",
    "print(d)\n",
    "print(d.items())\n",
    "## Simpler and faster than an equivalent technique using dict.setdefault()\n",
    "d = {}\n",
    "for k, v in s:\n",
    "    d.setdefault(k, []).append(v)\n",
    "print(d.items())\n",
    "## Using 'int' as the default_factory, it makes the defaultdict useful for counting\n",
    "s = 'mississippi'\n",
    "d = defaultdict(int)\n",
    "for k in s:\n",
    "    d[k] += 1\n",
    "print(d.items())"
   ]
  },
  {
   "cell_type": "code",
   "execution_count": 38,
   "metadata": {},
   "outputs": [
    {
     "name": "stdout",
     "output_type": "stream",
     "text": [
      "5 2\n",
      "a\n",
      "a\n",
      "b\n",
      "a\n",
      "b\n",
      "a\n",
      "b\n",
      "1 2 4\n",
      "3 5\n"
     ]
    }
   ],
   "source": [
    "# Given two integers, n and m\n",
    "## There are n words in word group A. \n",
    "## There are m words in word group B.\n",
    "## For each m words, check whether the word has appeared in group A or not.\n",
    "## Print the indices of each occurrence of m in group A; If it does not appear, print -1\n",
    "n, m = map(int, input().split())\n",
    "d = defaultdict(list)\n",
    "for i in range(n):\n",
    "    d['group_a'].append(input())\n",
    "for j in range(m):\n",
    "    d['group_b'].append(input())\n",
    "\n",
    "for word_b in d['group_b']:\n",
    "    index_list = []\n",
    "    index = 0\n",
    "    for word_a in d['group_a']:\n",
    "        index += 1\n",
    "        if word_b == word_a:\n",
    "            index_list.append(index)\n",
    "    if index_list:\n",
    "        print(*index_list)\n",
    "    else:\n",
    "        print(-1)"
   ]
  },
  {
   "cell_type": "code",
   "execution_count": null,
   "metadata": {},
   "outputs": [],
   "source": [
    "# Return the indices of each unique word in word group A\n",
    "# Use the input in word group B as a key to access the values:\n",
    "## If present, return the occurring indices\n",
    "## If absent, return -1\n",
    "n, m = map(int, input().split())\n",
    "d = defaultdict(list)\n",
    "for i in range(n):\n",
    "    d[input()].append(i + 1)     # 1-indexed\n",
    "for i in range(m):\n",
    "    print(*d[input()] or [-1])   # True (Not empty)"
   ]
  },
  {
   "cell_type": "code",
   "execution_count": 5,
   "metadata": {},
   "outputs": [
    {
     "name": "stdout",
     "output_type": "stream",
     "text": [
      "33\n",
      "33\n",
      "11 22\n",
      "Point(x=1, y=2)\n",
      "OrderedDict([('x', 11), ('y', 22)])\n",
      "Point(x=33, y=22)\n",
      "('x', 'y')\n"
     ]
    }
   ],
   "source": [
    "# Named tuple: collections.namedtuple(typename, field_names, *, rename = False, defaults = None, module = None)\n",
    "## Returns a new tuple subclass named typename\n",
    "## Used to create tuple-like objects that have fields accessible by 'attribute lookup' as well as being 'indexable' and 'iterable'\n",
    "\n",
    "# Arguments\n",
    "## A sequence of strings: ['x', 'y']\n",
    "## A single string: 'x y'; 'x, y'\n",
    "\n",
    "# Example\n",
    "from collections import namedtuple\n",
    "Point = namedtuple('Point', ['x', 'y'])\n",
    "p = Point(11, y = 22)         # Instantiate with positional or keyword arguments\n",
    "\n",
    "print(p[0] + p[1])            # Access by index\n",
    "print(p.x + p.y)              # Access by name\n",
    "\n",
    "x, y = p                      # Unpack\n",
    "print(x, y)\n",
    "\n",
    "# Class methods\n",
    "## ._make(iterable): Makes a new instance from an existing sequence or iterable\n",
    "seq = [1, 2]\n",
    "print(Point._make(seq))\n",
    "## ._asdict(): Returns a new dict which maps field names to their corresponding values\n",
    "print(p._asdict())\n",
    "## ._replace(): Returns a new instance of the named tuple replacing specified fields with new values\n",
    "print(p._replace(x = 33))\n",
    "\n",
    "# Class attribute: _.fields (Tuple of strings listing the field names)\n",
    "print(p._fields)"
   ]
  },
  {
   "cell_type": "code",
   "execution_count": null,
   "metadata": {},
   "outputs": [],
   "source": [
    "# Calculate the average marks of the students (Corrected to 2 decimal places)\n",
    "## The first line contains an integer n, the total number of students.\n",
    "## The second line contains the names of the columns in any order.\n",
    "## The next n lines contain the marks, ids, name, and class.\n",
    "\n",
    "# Sample input\n",
    "## 5\n",
    "## ID         MARKS      NAME       CLASS     \n",
    "## 1          97         Raymond    7         \n",
    "## 2          50         Steven     4         \n",
    "## 3          91         Adrian     9         \n",
    "## 4          72         Stewart    5         \n",
    "## 5          80         Peter      6   "
   ]
  },
  {
   "cell_type": "code",
   "execution_count": 15,
   "metadata": {},
   "outputs": [
    {
     "name": "stdout",
     "output_type": "stream",
     "text": [
      "5\n",
      "ID         MARKS      NAME       CLASS\n",
      "1          97         Raymond    7\n",
      "2          50         Steven     4\n",
      "3          91         Adrian     9\n",
      "4          72         Stewart    5\n",
      "5          80         Peter      6\n",
      "78.00\n"
     ]
    }
   ],
   "source": [
    "n = int(input())\n",
    "grade_list = namedtuple('grade_list', input().split())\n",
    "output_list = [int(grade_list._make(input().split()).MARKS) for i in range(n)]\n",
    "print('{:.2f}'.format(sum(output_list) / n))"
   ]
  },
  {
   "cell_type": "code",
   "execution_count": 18,
   "metadata": {},
   "outputs": [
    {
     "name": "stdout",
     "output_type": "stream",
     "text": [
      "5\n",
      "ID         MARKS      NAME       CLASS\n",
      "1          97         Raymond    7\n",
      "2          50         Steven     4\n",
      "3          91         Adrian     9\n",
      "4          72         Stewart    5\n",
      "5          80         Peter      6\n",
      "78.00\n"
     ]
    }
   ],
   "source": [
    "n = int(input())\n",
    "grade_list = namedtuple('grade_list', input().split())\n",
    "grade_total = 0\n",
    "for i in range(n):\n",
    "    grade_total += int(grade_list(*input().split()).MARKS)\n",
    "print('{:.2f}'.format(grade_total / n))"
   ]
  },
  {
   "cell_type": "code",
   "execution_count": 28,
   "metadata": {},
   "outputs": [
    {
     "name": "stdout",
     "output_type": "stream",
     "text": [
      "deque([1])\n",
      "deque([2, 1])\n",
      "deque([])\n",
      "deque(['1'])\n",
      "deque(['4', '3', '2', '1'])\n"
     ]
    }
   ],
   "source": [
    "# Deque: collections.deque(iterable)\n",
    "# Returns a new deque object initialized left-to-right with data from iterable\n",
    "\n",
    "# Methods\n",
    "from collections import deque\n",
    "d = deque()\n",
    "## append(x): Adds x to the right side of the deque\n",
    "d.append(1); print(d)\n",
    "## appendleft(x): Adds x to the left side of the deque\n",
    "d.appendleft(2); print(d)\n",
    "## clear(): Removes all elements from the deque leaving it with length 0\n",
    "d.clear(); print(d)\n",
    "## extend(iterable): Extends the right side of the deque by appending elements from iterable\n",
    "d.extend('1'); print(d)\n",
    "## extendleft(iterable): Extends the left side of the deque by appending elements from iterable (Reversed order)\n",
    "d.extendleft('234'); print(d)\n",
    "## count(x): Counts the number of deque elements equal to x\n",
    "## pop(): Removes and returns an element from the right side of the deque\n",
    "## popleft(): Removes and returns an element from the left side of the deque\n",
    "## remove(): Removes the first occurrence of value\n",
    "## reverse(): Reverses the elements of the deque in-place and then returns None\n",
    "## rotate(): Rotates the deque n steps to the \"right\"; If n is negative, rotate to the left"
   ]
  },
  {
   "cell_type": "code",
   "execution_count": 33,
   "metadata": {},
   "outputs": [
    {
     "name": "stdout",
     "output_type": "stream",
     "text": [
      "6\n",
      "append 1\n",
      "append 2\n",
      "append 3\n",
      "appendleft 4\n",
      "pop\n",
      "popleft\n",
      "1 2\n"
     ]
    }
   ],
   "source": [
    "# Perform append, pop, popleft and appendleft methods on an empty deque d \n",
    "## The first line contains an integer n, the number of operations.\n",
    "## The next n lines contain the space separated names of methods and their values.\n",
    "## Print the space separated elements of deque d\n",
    "n = int(input())\n",
    "d = deque()\n",
    "for i in range(n):\n",
    "    cmd = input().split()\n",
    "    if len(cmd) == 2:\n",
    "        getattr(d, cmd[0])(cmd[1])\n",
    "    else:\n",
    "        getattr(d, cmd[0])()\n",
    "print(*d)"
   ]
  },
  {
   "cell_type": "code",
   "execution_count": 10,
   "metadata": {},
   "outputs": [
    {
     "name": "stdout",
     "output_type": "stream",
     "text": [
      "google\n",
      "g 2\n",
      "o 2\n",
      "e 1\n"
     ]
    }
   ],
   "source": [
    "# Given a string s, find the top three most common characters in the string\n",
    "## Print the three most common characters along with their occurrence count\n",
    "## Sort in descending order of occurrence count\n",
    "## If the occurrence count is the same, sort the characters in alphabetical order\n",
    "\n",
    "# Note:\n",
    "## The method works in the way that, elements with equal counts are ordered in the order first encountered\n",
    "## Sort the string in an alphabetical order in the beginning\n",
    "s = sorted(input())\n",
    "\n",
    "from collections import Counter\n",
    "s_counter = Counter(s)\n",
    "for char, count in s_counter.most_common(3):\n",
    "    print(char, count)"
   ]
  },
  {
   "cell_type": "code",
   "execution_count": 7,
   "metadata": {},
   "outputs": [],
   "source": [
    "# There is a horizontal row of n cubes. \n",
    "# Create a new vertical pile of cubes: If cube(i) is on top of cube(j), then length(j) >= length(i).\n",
    "## Pick up either the leftmost or the rightmost cube each time\n",
    "## Print \"Yes\" if it is possible to stack the cubes; Otherwise, print \"No\"\n",
    "\n",
    "## The first line contains a single integer t, the number of test cases.\n",
    "## For each test case, there are 2 lines:\n",
    "## The first line of each test case contains n, the number of cubes.\n",
    "## The second line contains n space separated integers, denoting the lengths of each cube."
   ]
  },
  {
   "cell_type": "code",
   "execution_count": 9,
   "metadata": {},
   "outputs": [
    {
     "name": "stdout",
     "output_type": "stream",
     "text": [
      "2\n",
      "6\n",
      "4 3 2 1 3 4\n",
      "Yes\n",
      "3\n",
      "1 3 2\n",
      "No\n"
     ]
    }
   ],
   "source": [
    "# Method 1\n",
    "## From the bottom to the top of the pile, cube lengths should be in the decreasing order.\n",
    "## For each value in the reversed sorted list, it should be equal to either the leftmost or the rightmost.\n",
    "from collections import deque\n",
    "\n",
    "for i in range(int(input())):  \n",
    "    n, queue = input(), deque(map(int, input().split()))\n",
    "    for cube in sorted(queue, reverse = True):\n",
    "        if queue[-1] == cube: queue.pop()\n",
    "        elif queue[0] == cube: queue.popleft()\n",
    "        else:\n",
    "            print('No')\n",
    "            break\n",
    "    else: print('Yes')"
   ]
  },
  {
   "cell_type": "code",
   "execution_count": 5,
   "metadata": {},
   "outputs": [
    {
     "name": "stdout",
     "output_type": "stream",
     "text": [
      "2\n",
      "6\n",
      "4 3 2 1 3 4\n",
      "Yes\n",
      "3\n",
      "1 3 2\n",
      "No\n"
     ]
    }
   ],
   "source": [
    "# Method 2\n",
    "## To the left of the min value: Decreasing\n",
    "## To the right of the min value: Increasing \n",
    "for t in range(int(input())):\n",
    "    n = input()\n",
    "    lst = [int(i) for i in input().split()]\n",
    "    min_elt = lst.index(min(lst))\n",
    "    left = lst[:min_elt]\n",
    "    right = lst[min_elt + 1:]\n",
    "    if left == sorted(left, reverse = True) and right == sorted(right):\n",
    "        print(\"Yes\")\n",
    "    else:\n",
    "        print(\"No\")"
   ]
  },
  {
   "cell_type": "code",
   "execution_count": 2,
   "metadata": {},
   "outputs": [
    {
     "name": "stdout",
     "output_type": "stream",
     "text": [
      "4\n",
      "bcdef\n",
      "abcdefg\n",
      "bcde\n",
      "bcdef\n",
      "3\n",
      "2 1 1\n"
     ]
    }
   ],
   "source": [
    "# Given n words:\n",
    "# For each word, output its number of occurrences. \n",
    "# The output order should correspond with the input order of appearance of the word.\n",
    "\n",
    "## The first line contains the integer, n.\n",
    "## The next n lines contain a word.\n",
    "\n",
    "## On the first line, output the number of distinct words from the input.\n",
    "## On the second line, output the number of occurrences for each distinct word according to their appearance in the input.\n",
    "from collections import OrderedDict\n",
    "from collections import Counter\n",
    "\n",
    "n = int(input())\n",
    "word_list = [input() for i in range(n)]\n",
    "word_counter = Counter(word_list)\n",
    "word_ordered_dict = OrderedDict()\n",
    "print(len(Counter(word_list).keys()))\n",
    "for word in word_list:\n",
    "    word_ordered_dict[word] = word_counter[word]\n",
    "print(*word_ordered_dict.values())"
   ]
  },
  {
   "cell_type": "code",
   "execution_count": null,
   "metadata": {},
   "outputs": [],
   "source": []
  },
  {
   "cell_type": "code",
   "execution_count": 3,
   "metadata": {},
   "outputs": [],
   "source": [
    "def args(*args):\n",
    "    print(args)\n",
    "    for i in args:\n",
    "        print(i)"
   ]
  },
  {
   "cell_type": "code",
   "execution_count": 4,
   "metadata": {},
   "outputs": [],
   "source": [
    "def kwargs(**kwargs):\n",
    "    print(kwargs)\n",
    "    for i in kwargs:\n",
    "        print(i, kwargs[i])"
   ]
  },
  {
   "cell_type": "code",
   "execution_count": 5,
   "metadata": {},
   "outputs": [
    {
     "name": "stdout",
     "output_type": "stream",
     "text": [
      "(1, 2, 3, 4, 5)\n",
      "1\n",
      "2\n",
      "3\n",
      "4\n",
      "5\n"
     ]
    }
   ],
   "source": [
    "args(1, 2, 3, 4, 5)"
   ]
  },
  {
   "cell_type": "code",
   "execution_count": 7,
   "metadata": {},
   "outputs": [
    {
     "name": "stdout",
     "output_type": "stream",
     "text": [
      "{'a': 1, 'b': 2, 'c': 3}\n",
      "a 1\n",
      "b 2\n",
      "c 3\n"
     ]
    }
   ],
   "source": [
    "kwargs(a = 1, b = 2, c = 3)"
   ]
  }
 ],
 "metadata": {
  "kernelspec": {
   "display_name": "Python 3",
   "language": "python",
   "name": "python3"
  },
  "language_info": {
   "codemirror_mode": {
    "name": "ipython",
    "version": 3
   },
   "file_extension": ".py",
   "mimetype": "text/x-python",
   "name": "python",
   "nbconvert_exporter": "python",
   "pygments_lexer": "ipython3",
   "version": "3.8.1"
  }
 },
 "nbformat": 4,
 "nbformat_minor": 2
}
