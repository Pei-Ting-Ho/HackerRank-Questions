{
 "cells": [
  {
   "cell_type": "code",
   "execution_count": 1,
   "metadata": {},
   "outputs": [
    {
     "name": "stdout",
     "output_type": "stream",
     "text": [
      "[4, 3, 3]\n"
     ]
    },
    {
     "data": {
      "text/plain": [
       "6"
      ]
     },
     "execution_count": 1,
     "metadata": {},
     "output_type": "execute_result"
    }
   ],
   "source": [
    "# The map function: Applies a function to every member of an iterable and returns the result\n",
    "print(list(map(len, ['Tina', 'Raj', 'Tom'])))  \n",
    "\n",
    "# The lambda expression: Anonymous function often used as an inline function\n",
    "## Unlike def, which creates a function and assigns it a name, lambda creates a function and returns the function. \n",
    "## Lambda can be used inside lists and dictionaries.\n",
    "sum_func = lambda a, b, c: a + b + c\n",
    "sum_func(1, 2, 3)"
   ]
  },
  {
   "cell_type": "code",
   "execution_count": 8,
   "metadata": {},
   "outputs": [
    {
     "name": "stdout",
     "output_type": "stream",
     "text": [
      "5\n",
      "[0, 1, 1, 2, 3]\n",
      "[0, 1, 1, 8, 27]\n"
     ]
    }
   ],
   "source": [
    "# Given an integer, generate a list containing the cubes of the first n fibonacci numbers\n",
    "n = int(input())\n",
    "output_list = [0, 1]\n",
    "\n",
    "for i in range(n - 2):\n",
    "    output_list.append(sum(output_list[i:(i + 2)]))\n",
    "print(output_list)\n",
    "\n",
    "print(list(map(lambda x: x ** 3, output_list)))"
   ]
  },
  {
   "cell_type": "code",
   "execution_count": 15,
   "metadata": {},
   "outputs": [
    {
     "name": "stdout",
     "output_type": "stream",
     "text": [
      "6\n",
      "4\n",
      "2\n"
     ]
    }
   ],
   "source": [
    "# The reduce function: Applies a function of two arguments cumulatively to a list of objects in succession from left to right to reduce it to one value\n",
    "from functools import reduce \n",
    "from math import gcd \n",
    "print(reduce(lambda x, y: x + y, [1, 2, 3]))      # Without initial value\n",
    "print(reduce(lambda x, y: x + y, [1, 2, 3], -2))  # With initial value \n",
    "print(reduce(gcd, [2, 4, 8]))                     # Highest common factor"
   ]
  },
  {
   "cell_type": "code",
   "execution_count": 20,
   "metadata": {},
   "outputs": [
    {
     "name": "stdout",
     "output_type": "stream",
     "text": [
      "3\n",
      "1 2\n",
      "3 4\n",
      "10 6\n",
      "5 8\n"
     ]
    }
   ],
   "source": [
    "# Input\n",
    "## First line contains n, the number of rational numbers.\n",
    "## The ith of next n lines contains two integers each, numerator ni and denominator di.\n",
    "\n",
    "# Output: The numerator and denominator of the product of the numbers in the list \n",
    "n = int(input())\n",
    "n1, n2, n3 = [list(map(int, input().split())) for i in range(n)]\n",
    "numerator = reduce(lambda x, y: x * y, list(zip(n1, n2, n3))[0])\n",
    "denominator = reduce(lambda x, y: x * y, list(zip(n1, n2, n3))[1])\n",
    "gcd = reduce(gcd, [numerator, denominator])\n",
    "print(numerator // gcd, denominator // gcd)"
   ]
  },
  {
   "cell_type": "code",
   "execution_count": 26,
   "metadata": {},
   "outputs": [
    {
     "name": "stdout",
     "output_type": "stream",
     "text": [
      "3\n",
      "1 2\n",
      "3 4\n",
      "10 6\n",
      "5 8\n"
     ]
    }
   ],
   "source": [
    "from fractions import Fraction\n",
    "\n",
    "def product(fracs):\n",
    "    t = reduce(lambda x, y : x * y, fracs)\n",
    "    return t.numerator, t.denominator\n",
    "\n",
    "fracs = []\n",
    "for i in range(int(input())):\n",
    "    fracs.append(Fraction(*map(int, input().split())))\n",
    "    result = product(fracs)\n",
    "print(*result)"
   ]
  },
  {
   "cell_type": "code",
   "execution_count": 27,
   "metadata": {},
   "outputs": [
    {
     "name": "stdout",
     "output_type": "stream",
     "text": [
      "[0, 1, 4, 9, 16, 25, 36, 49, 64, 81]\n",
      "[16, 25, 36, 49, 64]\n"
     ]
    }
   ],
   "source": [
    "# The filter function: \n",
    "## Takes a function returning True or False and applies it to a sequence\n",
    "## Returns a list of only those members of the sequence where the function returned True\n",
    "l = list(range(10))\n",
    "l = list(map(lambda x: x ** 2, l))\n",
    "print(l)\n",
    "print(list(filter(lambda x: x > 10 and x < 80, l)))"
   ]
  },
  {
   "cell_type": "code",
   "execution_count": 29,
   "metadata": {},
   "outputs": [
    {
     "name": "stdout",
     "output_type": "stream",
     "text": [
      "3\n",
      "lara@hackerrank.com\n",
      "brian-23@hackerrank.com\n",
      "britts_54@hackerrank.com\n",
      "['brian-23@hackerrank.com', 'britts_54@hackerrank.com', 'lara@hackerrank.com']\n"
     ]
    }
   ],
   "source": [
    "# Given an integer n, followed by n email addresses, print a list containing only valid email addresses in lexicographical order\n",
    "## It must have the username@websitename.extension format type.\n",
    "## The username can only contain letters, digits, dashes and underscores.\n",
    "## The website name can only have letters and digits.\n",
    "## The maximum length of the extension is 3.\n",
    "def check_valid(email):\n",
    "    try:\n",
    "        username, url = email.split(\"@\")\n",
    "        website, extension = url.split(\".\")\n",
    "    except ValueError:\n",
    "        return False\n",
    "    \n",
    "    # Returns True if all characters are alphanumeric (either alphabets or numbers)\n",
    "    if not username.replace(\"-\", \"\").replace(\"_\", \"\").isalnum():\n",
    "        return False\n",
    "    elif not website.isalnum():\n",
    "        return False\n",
    "    elif len(extension) > 3:\n",
    "        return False\n",
    "    else:\n",
    "        return True\n",
    "\n",
    "n = int(input())\n",
    "email_list = [input() for i in range(n)]\n",
    "\n",
    "valid_email = list(filter(check_valid, email_list))\n",
    "print(sorted(valid_email))"
   ]
  }
 ],
 "metadata": {
  "kernelspec": {
   "display_name": "Python 3",
   "language": "python",
   "name": "python3"
  },
  "language_info": {
   "codemirror_mode": {
    "name": "ipython",
    "version": 3
   },
   "file_extension": ".py",
   "mimetype": "text/x-python",
   "name": "python",
   "nbconvert_exporter": "python",
   "pygments_lexer": "ipython3",
   "version": "3.8.1"
  }
 },
 "nbformat": 4,
 "nbformat_minor": 2
}
